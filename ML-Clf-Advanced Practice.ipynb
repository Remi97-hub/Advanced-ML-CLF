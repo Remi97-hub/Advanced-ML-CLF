{
 "cells": [
  {
   "cell_type": "code",
   "execution_count": 1,
   "id": "e9034848-be0b-4c8b-b131-a594ac485cc9",
   "metadata": {},
   "outputs": [],
   "source": [
    "def selectk_best(indep,dep,n):\n",
    "    from sklearn.feature_selection import SelectKBest,chi2\n",
    "    selector=SelectKBest(score_func=chi2,k=n)\n",
    "    fit1=selector.fit(indep,dep)\n",
    "    x=fit1.transform(indep)\n",
    "    return x"
   ]
  },
  {
   "cell_type": "code",
   "execution_count": 2,
   "id": "7ed27456-6903-42d4-a010-07ac630627e8",
   "metadata": {},
   "outputs": [],
   "source": [
    "def split_scale(x,dep):\n",
    "    from sklearn.model_selection import train_test_split\n",
    "    from sklearn.preprocessing import StandardScaler\n",
    "    x_train,x_test,y_train,y_test=train_test_split(x,dep,test_size=1/3,random_state=0)\n",
    "    sc=StandardScaler()\n",
    "    x_train_sc=sc.fit_transform(x_train)\n",
    "    x_test_sc=sc.transform(x_test)\n",
    "    return x_train_sc,x_test_sc,y_train,y_test "
   ]
  },
  {
   "cell_type": "code",
   "execution_count": 3,
   "id": "7c3187c7-269a-4833-87df-a041f70ad7ab",
   "metadata": {},
   "outputs": [],
   "source": [
    "from sklearn.metrics import accuracy_score,confusion_matrix,classification_report"
   ]
  },
  {
   "cell_type": "code",
   "execution_count": 4,
   "id": "713ef305-3c94-4fd6-a14f-35eab475fa36",
   "metadata": {},
   "outputs": [],
   "source": [
    "def logistic(x_train_sc,x_test_sc,y_train,y_test):\n",
    "    from sklearn.linear_model import LogisticRegression\n",
    "    model=LogisticRegression()\n",
    "    model.fit(x_train_sc,y_train)\n",
    "    y_pred=model.predict(x_test_sc)\n",
    "    accuracy=accuracy_score(y_pred,y_test)\n",
    "    return accuracy\n"
   ]
  },
  {
   "cell_type": "code",
   "execution_count": 5,
   "id": "0adcf49f-89c7-4256-82f8-3e12044d3492",
   "metadata": {},
   "outputs": [],
   "source": [
    "def svml(x_train_sc,x_test_sc,y_train,y_test):\n",
    "    from sklearn.svm import SVC\n",
    "    model=SVC(kernel='linear')\n",
    "    model.fit(x_train_sc,y_train)\n",
    "    y_pred=model.predict(x_test_sc)\n",
    "    accuracy=accuracy_score(y_pred,y_test)\n",
    "    return accuracy\n"
   ]
  },
  {
   "cell_type": "code",
   "execution_count": 6,
   "id": "6ed87f1d-0f58-4096-805a-7ab333ca8391",
   "metadata": {},
   "outputs": [],
   "source": [
    "def svm_nl(x_train_sc,x_test_sc,y_train,y_test):\n",
    "    from sklearn.svm import SVC\n",
    "    model=SVC(kernel='rbf')\n",
    "    model.fit(x_train_sc,y_train)\n",
    "    y_pred=model.predict(x_test_sc)\n",
    "    accuracy=accuracy_score(y_pred,y_test)\n",
    "    return accuracy"
   ]
  },
  {
   "cell_type": "code",
   "execution_count": 7,
   "id": "8bf068df-2705-40ec-b410-0bd9bd2b718a",
   "metadata": {},
   "outputs": [],
   "source": [
    "def naive(x_train_sc,x_test_sc,y_train,y_test):\n",
    "    from sklearn.naive_bayes import GaussianNB\n",
    "    model=GaussianNB()\n",
    "    model.fit(x_train_sc,y_train)\n",
    "    y_pred=model.predict(x_test_sc)\n",
    "    accuracy=accuracy_score(y_pred,y_test)\n",
    "    return accuracy"
   ]
  },
  {
   "cell_type": "code",
   "execution_count": 8,
   "id": "44855807-8a6b-4538-918f-c31867a59d73",
   "metadata": {},
   "outputs": [],
   "source": [
    "def knn(x_train_sc,x_test_sc,y_train,y_test):\n",
    "    from sklearn.neighbors import KNeighborsClassifier\n",
    "    model=KNeighborsClassifier(n_neighbors=5,metric='minkowski',p=2)\n",
    "    model.fit(x_train_sc,y_train)\n",
    "    y_pred=model.predict(x_test_sc)\n",
    "    accuracy=accuracy_score(y_pred,y_test)\n",
    "    return accuracy"
   ]
  },
  {
   "cell_type": "code",
   "execution_count": 9,
   "id": "f3571e4d-7501-4627-a35f-2942e38c4a17",
   "metadata": {},
   "outputs": [],
   "source": [
    "def Decision(x_train_sc,x_test_sc,y_train,y_test):\n",
    "    from sklearn.tree import DecisionTreeClassifier\n",
    "    model= DecisionTreeClassifier(criterion='entropy')\n",
    "    model.fit(x_train_sc,y_train)\n",
    "    y_pred=model.predict(x_test_sc)\n",
    "    accuracy=accuracy_score(y_pred,y_test)\n",
    "    return accuracy"
   ]
  },
  {
   "cell_type": "code",
   "execution_count": 20,
   "id": "4303afe6-c90d-431e-bc10-8d9da16432fa",
   "metadata": {},
   "outputs": [],
   "source": [
    "def random_forest(x_train_sc,x_test_sc,y_train,y_test):\n",
    "    from sklearn.ensemble import RandomForestClassifier\n",
    "    model= RandomForestClassifier(n_estimators=10,criterion='entropy')\n",
    "    model.fit(x_train_sc,y_train)\n",
    "    y_pred=model.predict(x_test_sc)\n",
    "    accuracy=accuracy_score(y_pred,y_test)\n",
    "    return accuracy\n"
   ]
  },
  {
   "cell_type": "code",
   "execution_count": null,
   "id": "12398325-1e1d-495c-8434-b9acad85d6ba",
   "metadata": {},
   "outputs": [],
   "source": []
  },
  {
   "cell_type": "code",
   "execution_count": 11,
   "id": "b1fde50f-c236-4691-9a61-37c094dd2f25",
   "metadata": {},
   "outputs": [],
   "source": [
    "import pandas as pd\n",
    "data=pd.read_csv(\"CKD.csv\")"
   ]
  },
  {
   "cell_type": "code",
   "execution_count": 12,
   "id": "854246bb-8f02-46ec-bbba-528279f8aa8d",
   "metadata": {},
   "outputs": [],
   "source": [
    "data=pd.get_dummies(data,drop_first=True)"
   ]
  },
  {
   "cell_type": "code",
   "execution_count": 13,
   "id": "e80bd78f-8bd8-4527-bf6e-4beebd48b089",
   "metadata": {
    "scrolled": true
   },
   "outputs": [
    {
     "data": {
      "text/plain": [
       "Index(['age', 'bp', 'al', 'su', 'bgr', 'bu', 'sc', 'sod', 'pot', 'hrmo', 'pcv',\n",
       "       'wc', 'rc', 'sg_b', 'sg_c', 'sg_d', 'sg_e', 'rbc_normal', 'pc_normal',\n",
       "       'pcc_present', 'ba_present', 'htn_yes', 'dm_yes', 'cad_yes',\n",
       "       'appet_yes', 'pe_yes', 'ane_yes', 'classification_yes'],\n",
       "      dtype='object')"
      ]
     },
     "execution_count": 13,
     "metadata": {},
     "output_type": "execute_result"
    }
   ],
   "source": [
    "data.columns"
   ]
  },
  {
   "cell_type": "code",
   "execution_count": 14,
   "id": "9bb1d2ef-7fcf-4c1f-91b1-96135c03fe93",
   "metadata": {},
   "outputs": [],
   "source": [
    "indep=data.drop('classification_yes',axis=1)\n",
    "dep=data['classification_yes']"
   ]
  },
  {
   "cell_type": "code",
   "execution_count": 50,
   "id": "a846dded-2eea-4d6b-b0ed-e5c7b3d38b93",
   "metadata": {},
   "outputs": [],
   "source": [
    "kbest=selectk_best(indep,dep,5)"
   ]
  },
  {
   "cell_type": "code",
   "execution_count": 51,
   "id": "b32b6d5a-a6a0-4d7b-a5c7-0b1dc8fc8629",
   "metadata": {},
   "outputs": [
    {
     "ename": "AttributeError",
     "evalue": "'numpy.ndarray' object has no attribute 'columns'",
     "output_type": "error",
     "traceback": [
      "\u001b[1;31m---------------------------------------------------------------------------\u001b[0m",
      "\u001b[1;31mAttributeError\u001b[0m                            Traceback (most recent call last)",
      "Cell \u001b[1;32mIn[51], line 1\u001b[0m\n\u001b[1;32m----> 1\u001b[0m kbest\u001b[38;5;241m.\u001b[39mcolumns\n",
      "\u001b[1;31mAttributeError\u001b[0m: 'numpy.ndarray' object has no attribute 'columns'"
     ]
    }
   ],
   "source": [
    "kbest.columns"
   ]
  },
  {
   "cell_type": "code",
   "execution_count": 48,
   "id": "b09baaf5-5779-40c4-9cde-4f9dc8b55605",
   "metadata": {},
   "outputs": [
    {
     "data": {
      "text/plain": [
       "['T',\n",
       " '__abs__',\n",
       " '__add__',\n",
       " '__and__',\n",
       " '__array__',\n",
       " '__array_finalize__',\n",
       " '__array_function__',\n",
       " '__array_interface__',\n",
       " '__array_prepare__',\n",
       " '__array_priority__',\n",
       " '__array_struct__',\n",
       " '__array_ufunc__',\n",
       " '__array_wrap__',\n",
       " '__bool__',\n",
       " '__buffer__',\n",
       " '__class__',\n",
       " '__class_getitem__',\n",
       " '__complex__',\n",
       " '__contains__',\n",
       " '__copy__',\n",
       " '__deepcopy__',\n",
       " '__delattr__',\n",
       " '__delitem__',\n",
       " '__dir__',\n",
       " '__divmod__',\n",
       " '__dlpack__',\n",
       " '__dlpack_device__',\n",
       " '__doc__',\n",
       " '__eq__',\n",
       " '__float__',\n",
       " '__floordiv__',\n",
       " '__format__',\n",
       " '__ge__',\n",
       " '__getattribute__',\n",
       " '__getitem__',\n",
       " '__getstate__',\n",
       " '__gt__',\n",
       " '__hash__',\n",
       " '__iadd__',\n",
       " '__iand__',\n",
       " '__ifloordiv__',\n",
       " '__ilshift__',\n",
       " '__imatmul__',\n",
       " '__imod__',\n",
       " '__imul__',\n",
       " '__index__',\n",
       " '__init__',\n",
       " '__init_subclass__',\n",
       " '__int__',\n",
       " '__invert__',\n",
       " '__ior__',\n",
       " '__ipow__',\n",
       " '__irshift__',\n",
       " '__isub__',\n",
       " '__iter__',\n",
       " '__itruediv__',\n",
       " '__ixor__',\n",
       " '__le__',\n",
       " '__len__',\n",
       " '__lshift__',\n",
       " '__lt__',\n",
       " '__matmul__',\n",
       " '__mod__',\n",
       " '__mul__',\n",
       " '__ne__',\n",
       " '__neg__',\n",
       " '__new__',\n",
       " '__or__',\n",
       " '__pos__',\n",
       " '__pow__',\n",
       " '__radd__',\n",
       " '__rand__',\n",
       " '__rdivmod__',\n",
       " '__reduce__',\n",
       " '__reduce_ex__',\n",
       " '__repr__',\n",
       " '__rfloordiv__',\n",
       " '__rlshift__',\n",
       " '__rmatmul__',\n",
       " '__rmod__',\n",
       " '__rmul__',\n",
       " '__ror__',\n",
       " '__rpow__',\n",
       " '__rrshift__',\n",
       " '__rshift__',\n",
       " '__rsub__',\n",
       " '__rtruediv__',\n",
       " '__rxor__',\n",
       " '__setattr__',\n",
       " '__setitem__',\n",
       " '__setstate__',\n",
       " '__sizeof__',\n",
       " '__str__',\n",
       " '__sub__',\n",
       " '__subclasshook__',\n",
       " '__truediv__',\n",
       " '__xor__',\n",
       " 'all',\n",
       " 'any',\n",
       " 'argmax',\n",
       " 'argmin',\n",
       " 'argpartition',\n",
       " 'argsort',\n",
       " 'astype',\n",
       " 'base',\n",
       " 'byteswap',\n",
       " 'choose',\n",
       " 'clip',\n",
       " 'compress',\n",
       " 'conj',\n",
       " 'conjugate',\n",
       " 'copy',\n",
       " 'ctypes',\n",
       " 'cumprod',\n",
       " 'cumsum',\n",
       " 'data',\n",
       " 'diagonal',\n",
       " 'dot',\n",
       " 'dtype',\n",
       " 'dump',\n",
       " 'dumps',\n",
       " 'fill',\n",
       " 'flags',\n",
       " 'flat',\n",
       " 'flatten',\n",
       " 'getfield',\n",
       " 'imag',\n",
       " 'item',\n",
       " 'itemset',\n",
       " 'itemsize',\n",
       " 'max',\n",
       " 'mean',\n",
       " 'min',\n",
       " 'nbytes',\n",
       " 'ndim',\n",
       " 'newbyteorder',\n",
       " 'nonzero',\n",
       " 'partition',\n",
       " 'prod',\n",
       " 'ptp',\n",
       " 'put',\n",
       " 'ravel',\n",
       " 'real',\n",
       " 'repeat',\n",
       " 'reshape',\n",
       " 'resize',\n",
       " 'round',\n",
       " 'searchsorted',\n",
       " 'setfield',\n",
       " 'setflags',\n",
       " 'shape',\n",
       " 'size',\n",
       " 'sort',\n",
       " 'squeeze',\n",
       " 'std',\n",
       " 'strides',\n",
       " 'sum',\n",
       " 'swapaxes',\n",
       " 'take',\n",
       " 'tobytes',\n",
       " 'tofile',\n",
       " 'tolist',\n",
       " 'tostring',\n",
       " 'trace',\n",
       " 'transpose',\n",
       " 'var',\n",
       " 'view']"
      ]
     },
     "execution_count": 48,
     "metadata": {},
     "output_type": "execute_result"
    }
   ],
   "source": [
    "dir(kbest)"
   ]
  },
  {
   "cell_type": "code",
   "execution_count": 16,
   "id": "0e99e3bb-0106-452e-8567-0bd12eb99ed5",
   "metadata": {
    "scrolled": true
   },
   "outputs": [
    {
     "data": {
      "text/plain": [
       "(399, 5)"
      ]
     },
     "execution_count": 16,
     "metadata": {},
     "output_type": "execute_result"
    }
   ],
   "source": [
    "kbest.shape"
   ]
  },
  {
   "cell_type": "code",
   "execution_count": 40,
   "id": "76ac4504-eed2-43b4-9839-c996a593739d",
   "metadata": {},
   "outputs": [],
   "source": [
    "x_train_sc,x_test_sc,y_train,y_test=split_scale(kbest,dep)"
   ]
  },
  {
   "cell_type": "code",
   "execution_count": 18,
   "id": "4e47a1c2-a82b-4091-8ffb-5d95e671e55d",
   "metadata": {},
   "outputs": [
    {
     "data": {
      "text/plain": [
       "(266, 5)"
      ]
     },
     "execution_count": 18,
     "metadata": {},
     "output_type": "execute_result"
    }
   ],
   "source": [
    "x_train_sc.shape"
   ]
  },
  {
   "cell_type": "code",
   "execution_count": 41,
   "id": "ee1d1a88-4b68-41d2-8e08-418155be4894",
   "metadata": {},
   "outputs": [],
   "source": [
    "log_accuracy=logistic(x_train_sc,x_test_sc,y_train,y_test)\n",
    "svm_accuracy=svml(x_train_sc,x_test_sc,y_train,y_test)\n",
    "svm_nl_accuracy=svm_nl(x_train_sc,x_test_sc,y_train,y_test)\n",
    "naive_accuracy=naive(x_train_sc,x_test_sc,y_train,y_test)\n",
    "knn_accuracy=knn(x_train_sc,x_test_sc,y_train,y_test)\n",
    "decision_accuracy=Decision(x_train_sc,x_test_sc,y_train,y_test)\n",
    "random_accuracy=random_forest(x_train_sc,x_test_sc,y_train,y_test)\n",
    "\n",
    "#print(log_accuracy)"
   ]
  },
  {
   "cell_type": "code",
   "execution_count": null,
   "id": "85841e42-44ff-4de0-8dcb-d2f0b84134fa",
   "metadata": {},
   "outputs": [],
   "source": [
    "#naiv_accuracy,model=naive(x_train_sc,x_test_sc,y_train,y_test)"
   ]
  },
  {
   "cell_type": "code",
   "execution_count": null,
   "id": "921eb490-1a3b-4048-b842-56ad3d292b91",
   "metadata": {},
   "outputs": [],
   "source": [
    "#naiv_accuracy"
   ]
  },
  {
   "cell_type": "code",
   "execution_count": null,
   "id": "8a7b2518-db56-4918-85cb-ae7d9c9b3212",
   "metadata": {},
   "outputs": [],
   "source": [
    "#acclog=[]\n",
    "#acclog.append(log_accuracy)"
   ]
  },
  {
   "cell_type": "code",
   "execution_count": null,
   "id": "e71942d0-bcfd-4940-9dbe-aa4f4d7ca9ce",
   "metadata": {},
   "outputs": [],
   "source": [
    "#acclog"
   ]
  },
  {
   "cell_type": "code",
   "execution_count": 22,
   "id": "8c118ec4-3d52-468f-9be5-bfd920edd1f8",
   "metadata": {},
   "outputs": [],
   "source": [
    "chiTable=pd.DataFrame(index=['Chi-Square'],columns=['Logistic','SVML','SVMnL','KNN','Naive','Decision','Random'])"
   ]
  },
  {
   "cell_type": "code",
   "execution_count": 42,
   "id": "86d39c92-626e-4a8a-b686-a6f53127924a",
   "metadata": {},
   "outputs": [],
   "source": [
    "chiTable.loc['Chi-Square','Logistic']=log_accuracy\n",
    "chiTable.loc['Chi-Square','SVML']=svm_accuracy\n",
    "chiTable.loc['Chi-Square','SVMnL']=svm_nl_accuracy\n",
    "chiTable.loc['Chi-Square','KNN']=knn_accuracy\n",
    "chiTable.loc['Chi-Square','Naive']=naive_accuracy\n",
    "chiTable.loc['Chi-Square','Decision']=decision_accuracy\n",
    "chiTable.loc['Chi-Square','Random']=random_accuracy\n"
   ]
  },
  {
   "cell_type": "code",
   "execution_count": 25,
   "id": "7018081d-827f-4ed3-bb4a-294bc7c05b5e",
   "metadata": {},
   "outputs": [
    {
     "data": {
      "text/html": [
       "<div>\n",
       "<style scoped>\n",
       "    .dataframe tbody tr th:only-of-type {\n",
       "        vertical-align: middle;\n",
       "    }\n",
       "\n",
       "    .dataframe tbody tr th {\n",
       "        vertical-align: top;\n",
       "    }\n",
       "\n",
       "    .dataframe thead th {\n",
       "        text-align: right;\n",
       "    }\n",
       "</style>\n",
       "<table border=\"1\" class=\"dataframe\">\n",
       "  <thead>\n",
       "    <tr style=\"text-align: right;\">\n",
       "      <th></th>\n",
       "      <th>Logistic</th>\n",
       "      <th>SVML</th>\n",
       "      <th>SVMnL</th>\n",
       "      <th>KNN</th>\n",
       "      <th>Naive</th>\n",
       "      <th>Decision</th>\n",
       "      <th>Random</th>\n",
       "    </tr>\n",
       "  </thead>\n",
       "  <tbody>\n",
       "    <tr>\n",
       "      <th>Chi-Square</th>\n",
       "      <td>0.947368</td>\n",
       "      <td>0.947368</td>\n",
       "      <td>0.954887</td>\n",
       "      <td>0.917293</td>\n",
       "      <td>0.857143</td>\n",
       "      <td>0.962406</td>\n",
       "      <td>0.947368</td>\n",
       "    </tr>\n",
       "  </tbody>\n",
       "</table>\n",
       "</div>"
      ],
      "text/plain": [
       "            Logistic      SVML     SVMnL       KNN     Naive  Decision  \\\n",
       "Chi-Square  0.947368  0.947368  0.954887  0.917293  0.857143  0.962406   \n",
       "\n",
       "              Random  \n",
       "Chi-Square  0.947368  "
      ]
     },
     "execution_count": 25,
     "metadata": {},
     "output_type": "execute_result"
    }
   ],
   "source": [
    "chiTable\n",
    "#5"
   ]
  },
  {
   "cell_type": "code",
   "execution_count": 37,
   "id": "e2d38569-2f6e-42f3-a89f-916c9174f3da",
   "metadata": {},
   "outputs": [],
   "source": [
    "kbest=selectk_best(indep,dep,3)\n",
    "#2\n"
   ]
  },
  {
   "cell_type": "code",
   "execution_count": 38,
   "id": "f29eb405-6a2f-4eec-a7b6-8c4a9364a367",
   "metadata": {},
   "outputs": [
    {
     "data": {
      "text/html": [
       "<div>\n",
       "<style scoped>\n",
       "    .dataframe tbody tr th:only-of-type {\n",
       "        vertical-align: middle;\n",
       "    }\n",
       "\n",
       "    .dataframe tbody tr th {\n",
       "        vertical-align: top;\n",
       "    }\n",
       "\n",
       "    .dataframe thead th {\n",
       "        text-align: right;\n",
       "    }\n",
       "</style>\n",
       "<table border=\"1\" class=\"dataframe\">\n",
       "  <thead>\n",
       "    <tr style=\"text-align: right;\">\n",
       "      <th></th>\n",
       "      <th>Logistic</th>\n",
       "      <th>SVML</th>\n",
       "      <th>SVMnL</th>\n",
       "      <th>KNN</th>\n",
       "      <th>Naive</th>\n",
       "      <th>Decision</th>\n",
       "      <th>Random</th>\n",
       "    </tr>\n",
       "  </thead>\n",
       "  <tbody>\n",
       "    <tr>\n",
       "      <th>Chi-Square</th>\n",
       "      <td>0.947368</td>\n",
       "      <td>0.947368</td>\n",
       "      <td>0.954887</td>\n",
       "      <td>0.917293</td>\n",
       "      <td>0.857143</td>\n",
       "      <td>0.954887</td>\n",
       "      <td>0.917293</td>\n",
       "    </tr>\n",
       "  </tbody>\n",
       "</table>\n",
       "</div>"
      ],
      "text/plain": [
       "            Logistic      SVML     SVMnL       KNN     Naive  Decision  \\\n",
       "Chi-Square  0.947368  0.947368  0.954887  0.917293  0.857143  0.954887   \n",
       "\n",
       "              Random  \n",
       "Chi-Square  0.917293  "
      ]
     },
     "execution_count": 38,
     "metadata": {},
     "output_type": "execute_result"
    }
   ],
   "source": [
    "chiTable"
   ]
  },
  {
   "cell_type": "code",
   "execution_count": 39,
   "id": "c534dce3-93a9-4fbd-8cb5-f3c8378231a6",
   "metadata": {},
   "outputs": [],
   "source": [
    "kbest=selectk_best(indep,dep,4)"
   ]
  },
  {
   "cell_type": "code",
   "execution_count": 43,
   "id": "b1d1c75a-5631-4a9e-95fc-aec9b6af3c4e",
   "metadata": {},
   "outputs": [
    {
     "data": {
      "text/html": [
       "<div>\n",
       "<style scoped>\n",
       "    .dataframe tbody tr th:only-of-type {\n",
       "        vertical-align: middle;\n",
       "    }\n",
       "\n",
       "    .dataframe tbody tr th {\n",
       "        vertical-align: top;\n",
       "    }\n",
       "\n",
       "    .dataframe thead th {\n",
       "        text-align: right;\n",
       "    }\n",
       "</style>\n",
       "<table border=\"1\" class=\"dataframe\">\n",
       "  <thead>\n",
       "    <tr style=\"text-align: right;\">\n",
       "      <th></th>\n",
       "      <th>Logistic</th>\n",
       "      <th>SVML</th>\n",
       "      <th>SVMnL</th>\n",
       "      <th>KNN</th>\n",
       "      <th>Naive</th>\n",
       "      <th>Decision</th>\n",
       "      <th>Random</th>\n",
       "    </tr>\n",
       "  </thead>\n",
       "  <tbody>\n",
       "    <tr>\n",
       "      <th>Chi-Square</th>\n",
       "      <td>0.857143</td>\n",
       "      <td>0.857143</td>\n",
       "      <td>0.857143</td>\n",
       "      <td>0.864662</td>\n",
       "      <td>0.804511</td>\n",
       "      <td>0.902256</td>\n",
       "      <td>0.909774</td>\n",
       "    </tr>\n",
       "  </tbody>\n",
       "</table>\n",
       "</div>"
      ],
      "text/plain": [
       "            Logistic      SVML     SVMnL       KNN     Naive  Decision  \\\n",
       "Chi-Square  0.857143  0.857143  0.857143  0.864662  0.804511  0.902256   \n",
       "\n",
       "              Random  \n",
       "Chi-Square  0.909774  "
      ]
     },
     "execution_count": 43,
     "metadata": {},
     "output_type": "execute_result"
    }
   ],
   "source": [
    "chiTable"
   ]
  },
  {
   "cell_type": "code",
   "execution_count": null,
   "id": "6c9eb02b-9fb7-4c5e-bec9-6471b564fa4f",
   "metadata": {},
   "outputs": [],
   "source": []
  }
 ],
 "metadata": {
  "kernelspec": {
   "display_name": "Python [conda env:base] *",
   "language": "python",
   "name": "conda-base-py"
  },
  "language_info": {
   "codemirror_mode": {
    "name": "ipython",
    "version": 3
   },
   "file_extension": ".py",
   "mimetype": "text/x-python",
   "name": "python",
   "nbconvert_exporter": "python",
   "pygments_lexer": "ipython3",
   "version": "3.12.7"
  }
 },
 "nbformat": 4,
 "nbformat_minor": 5
}
