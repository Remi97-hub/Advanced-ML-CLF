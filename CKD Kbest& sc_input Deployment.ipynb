{
 "cells": [
  {
   "cell_type": "code",
   "execution_count": 1,
   "id": "ea5010b4-e760-49ee-91a3-1e77bfe3eaee",
   "metadata": {},
   "outputs": [],
   "source": [
    "import joblib"
   ]
  },
  {
   "cell_type": "code",
   "execution_count": 2,
   "id": "1c694803-9487-4b5e-8e27-2c80ee650918",
   "metadata": {},
   "outputs": [],
   "source": [
    "import joblib\n",
    "\n",
    "# Load the model\n",
    "model_svm_rbf = joblib.load(\"Final_KBest_CKD_Model.joblib\")\n",
    "sc_CKD=joblib.load('Scaler_CKD.joblib')\n",
    "# Test prediction\n",
    "#y_pred = model_svm_rbf.predict(x_test_sc)\n"
   ]
  },
  {
   "cell_type": "code",
   "execution_count": 3,
   "id": "a67369b0-7795-4f9b-af31-7169b2aafe30",
   "metadata": {},
   "outputs": [
    {
     "name": "stdin",
     "output_type": "stream",
     "text": [
      "bgr: 0\n",
      "bu: 1\n",
      "sc: 3\n",
      "pcv: 2\n",
      "wc: 1\n"
     ]
    }
   ],
   "source": [
    "bgr=float(input(\"bgr:\"))\n",
    "bu=float(input(\"bu:\"))\n",
    "sc_in=float(input(\"sc:\"))\n",
    "pcv=float(input(\"pcv:\"))\n",
    "wc=float(input(\"wc:\"))\n",
    "pre_input = [[bgr, bu, sc_in, pcv, wc]]\n",
    "trans_input=sc_CKD.transform(pre_input)\n",
    "prediction=model_svm_rbf.predict(trans_input)"
   ]
  },
  {
   "cell_type": "code",
   "execution_count": 4,
   "id": "446c1c0c-9785-44b5-bac1-8355b99b72db",
   "metadata": {},
   "outputs": [
    {
     "name": "stdout",
     "output_type": "stream",
     "text": [
      "True\n"
     ]
    }
   ],
   "source": [
    "print(prediction[0])"
   ]
  },
  {
   "cell_type": "code",
   "execution_count": null,
   "id": "ee23f779-4fb2-4383-b972-4942b87f6a9a",
   "metadata": {},
   "outputs": [],
   "source": []
  }
 ],
 "metadata": {
  "kernelspec": {
   "display_name": "Python [conda env:base] *",
   "language": "python",
   "name": "conda-base-py"
  },
  "language_info": {
   "codemirror_mode": {
    "name": "ipython",
    "version": 3
   },
   "file_extension": ".py",
   "mimetype": "text/x-python",
   "name": "python",
   "nbconvert_exporter": "python",
   "pygments_lexer": "ipython3",
   "version": "3.12.7"
  }
 },
 "nbformat": 4,
 "nbformat_minor": 5
}
