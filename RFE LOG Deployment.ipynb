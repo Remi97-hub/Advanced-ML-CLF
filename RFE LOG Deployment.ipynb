{
 "cells": [
  {
   "cell_type": "code",
   "execution_count": 3,
   "id": "54b82937-976a-47cd-a7e1-018c90c19f6e",
   "metadata": {},
   "outputs": [],
   "source": [
    "import joblib\n",
    "new_log_model=joblib.load('RFE_CKD_log.joblib')\n",
    "sc=joblib.load('log_CKD_sc.joblib')"
   ]
  },
  {
   "cell_type": "code",
   "execution_count": 4,
   "id": "6b8a38d5-d8f6-45ec-8491-9a62b07bd23d",
   "metadata": {},
   "outputs": [
    {
     "name": "stdin",
     "output_type": "stream",
     "text": [
      "al: 1\n",
      "sg_c: 1\n",
      "sg_d: 1\n",
      "htn_yes: 1\n",
      "wc: 1\n"
     ]
    },
    {
     "name": "stdout",
     "output_type": "stream",
     "text": [
      "[[0.12822052 1.83320914 2.21610269 1.35269628 1.35269628]]\n",
      "[ True]\n"
     ]
    }
   ],
   "source": [
    "al=float(input(\"al:\"))\n",
    "sg_c=float(input(\"sg_c:\"))\n",
    "sg_d=float(input(\"sg_d:\"))\n",
    "htn_yes=float(input(\"htn_yes:\"))\n",
    "wc=float(input(\"wc:\"))\n",
    "pre_input = [[al, sg_c, sg_d, htn_yes, wc]]\n",
    "input_sc=sc.transform(pre_input)\n",
    "print(input_sc)\n",
    "new_prediction=new_log_model.predict(input_sc)\n",
    "print(new_prediction)"
   ]
  },
  {
   "cell_type": "code",
   "execution_count": null,
   "id": "339dd868-a1b6-45d6-9c6b-f92ee74bc8a2",
   "metadata": {},
   "outputs": [],
   "source": []
  }
 ],
 "metadata": {
  "kernelspec": {
   "display_name": "Python [conda env:base] *",
   "language": "python",
   "name": "conda-base-py"
  },
  "language_info": {
   "codemirror_mode": {
    "name": "ipython",
    "version": 3
   },
   "file_extension": ".py",
   "mimetype": "text/x-python",
   "name": "python",
   "nbconvert_exporter": "python",
   "pygments_lexer": "ipython3",
   "version": "3.12.7"
  }
 },
 "nbformat": 4,
 "nbformat_minor": 5
}
