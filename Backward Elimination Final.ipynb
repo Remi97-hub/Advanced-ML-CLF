{
 "cells": [
  {
   "cell_type": "code",
   "execution_count": 1,
   "id": "af069afd-dd81-40aa-a345-628c88fdb1a6",
   "metadata": {},
   "outputs": [],
   "source": [
    "from sklearn.feature_selection import SelectKBest,RFE\n",
    "from mlxtend.feature_selection import SequentialFeatureSelector as SFS\n",
    "from sklearn.model_selection import train_test_split\n",
    "from sklearn.preprocessing import StandardScaler\n",
    "from sklearn.metrics import accuracy_score,confusion_matrix,classification_report\n",
    "from sklearn.linear_model import LogisticRegression\n",
    "from sklearn.svm import SVC\n",
    "from sklearn.svm import SVC\n",
    "from sklearn.naive_bayes import GaussianNB\n",
    "from sklearn.neighbors import KNeighborsClassifier\n",
    "from sklearn.tree import DecisionTreeClassifier\n",
    "from sklearn.ensemble import RandomForestClassifier"
   ]
  },
  {
   "cell_type": "code",
   "execution_count": 2,
   "id": "db62b13f-27a0-4e40-951f-de4f72c611b7",
   "metadata": {},
   "outputs": [],
   "source": [
    "import pandas as pd\n",
    "dataset=pd.read_csv(\"CKD.csv\")\n",
    "dataset=pd.get_dummies(dataset,drop_first=True)\n",
    "indep=dataset.drop('classification_yes',axis=1)\n",
    "dep=dataset['classification_yes']"
   ]
  },
  {
   "cell_type": "code",
   "execution_count": 3,
   "id": "59893cd9-aa60-4a13-a54f-81e1865090a5",
   "metadata": {},
   "outputs": [],
   "source": [
    "x_train,x_test,y_train,y_test=train_test_split(indep,dep,test_size=1/3,random_state=0)\n",
    "sc=StandardScaler()\n",
    "x_train_sc=sc.fit_transform(x_train)\n",
    "x_test_sc=sc.transform(x_test)"
   ]
  },
  {
   "cell_type": "code",
   "execution_count": 4,
   "id": "e585edec-37dd-4574-8b36-d55c934eae78",
   "metadata": {},
   "outputs": [],
   "source": [
    "def forward_selection(x_train_sc,x_test_sc,y_train,y_test,n):\n",
    "    log=LogisticRegression(max_iter=1000,solver='liblinear')\n",
    "    dt=DecisionTreeClassifier()\n",
    "    models=[log,dt]\n",
    "    best_train_x=[]\n",
    "    best_test_x=[]\n",
    "    best_features=[]\n",
    "    for model in models:\n",
    "        selector=SFS(model,k_features=n,forward=False,scoring='accuracy')\n",
    "        selector.fit(x_train_sc,y_train)\n",
    "        mask=selector.k_feature_names_\n",
    "        feature_indices=[int(i) for i in mask]\n",
    "        feature_names=dataset.columns[feature_indices]\n",
    "        best_features.append(feature_names)\n",
    "        x_train_fs=selector.transform(x_train_sc)\n",
    "        best_train_x.append(x_train_fs)\n",
    "        x_test_fs=selector.transform(x_test_sc)\n",
    "        best_test_x.append(x_test_fs)\n",
    "    return best_train_x,best_test_x,best_features,y_train,y_test\n",
    "    "
   ]
  },
  {
   "cell_type": "code",
   "execution_count": 5,
   "id": "3ca00e91-2426-4720-9a0a-ce92a62b5e9f",
   "metadata": {},
   "outputs": [],
   "source": [
    "def accuracy(model,x_test_fs,y_test):\n",
    "    y_pred=model.predict(x_test_fs)\n",
    "    accu=accuracy_score(y_pred,y_test)\n",
    "    return accu"
   ]
  },
  {
   "cell_type": "code",
   "execution_count": 6,
   "id": "6300887a-30f0-462e-a002-e253fceefb03",
   "metadata": {},
   "outputs": [],
   "source": [
    "def log(x_train_fs,y_train,x_test_fs,y_test):\n",
    "    model=LogisticRegression(max_iter=1000,solver='liblinear')\n",
    "    model.fit(x_train_fs,y_train)\n",
    "    accuracy_log=accuracy(model,x_test_fs,y_test)\n",
    "    return accuracy_log\n",
    "\n",
    "def dt(x_train_fs,y_train,x_test_fs,y_test):\n",
    "    model=DecisionTreeClassifier()\n",
    "    model.fit(x_train_fs,y_train)\n",
    "    accuracy_dt=accuracy(model,x_test_fs,y_test)\n",
    "    return accuracy_dt\n",
    "\n",
    "def svc(x_train_fs,y_train,x_test_fs,y_test):\n",
    "    model=SVC(kernel='linear')\n",
    "    model.fit(x_train_fs,y_train)\n",
    "    accuracy_svc=accuracy(model,x_test_fs,y_test)\n",
    "    return accuracy_svc"
   ]
  },
  {
   "cell_type": "code",
   "execution_count": 7,
   "id": "37f03ffc-6a0b-48e2-a1b8-ba76c92661f0",
   "metadata": {},
   "outputs": [],
   "source": [
    "def combo(x_train_sc,x_test_sc,y_train,y_test,n):\n",
    "    best_train_x,best_test_x,best_features,y_train,y_test=forward_selection(x_train_sc,x_test_sc,y_train,y_test,n)\n",
    "    log_acc=[]\n",
    "    dt_acc=[]\n",
    "    svc_acc=[]\n",
    "    #all_acc=[log_acc,dt_acc,svc_acc]\n",
    "    for x_train_fs,x_test_fs in zip(best_train_x,best_test_x):\n",
    "        log_mod=log(x_train_fs,y_train,x_test_fs,y_test)\n",
    "        log_acc.append(log_mod)\n",
    "        dt_mod=dt(x_train_fs,y_train,x_test_fs,y_test)\n",
    "        dt_acc.append(dt_mod)\n",
    "        svc_mod=svc(x_train_fs,y_train,x_test_fs,y_test)\n",
    "        svc_acc.append(svc_mod)\n",
    "    result=[log_acc,dt_acc,svc_acc]\n",
    "    import pandas as pd\n",
    "    score_table=pd.DataFrame(result,columns=['Logistic Regression','Decision Tree'],index=['Logistic Regression','Decision Tree','SVM'])\n",
    "    features=pd.DataFrame(best_features,index=['Logistic Regression','Decision Tree'])\n",
    "    return score_table,features\n",
    "    #print(\"\\nscore_table:\\n\",features)\n",
    "    "
   ]
  },
  {
   "cell_type": "code",
   "execution_count": 8,
   "id": "a656b498-23f2-4f3a-a52f-6ce08d195a9d",
   "metadata": {},
   "outputs": [
    {
     "data": {
      "text/plain": [
       "(                     Logistic Regression  Decision Tree\n",
       " Logistic Regression             0.924812       0.969925\n",
       " Decision Tree                   0.954887       0.932331\n",
       " SVM                             0.939850       0.954887,\n",
       "                       0     1     2           3       4\n",
       " Logistic Regression  al  hrmo  sg_c  rbc_normal  dm_yes\n",
       " Decision Tree        sc   pcv    wc        sg_c    sg_d)"
      ]
     },
     "execution_count": 8,
     "metadata": {},
     "output_type": "execute_result"
    }
   ],
   "source": [
    "combo(x_train_sc,x_test_sc,y_train,y_test,5)"
   ]
  },
  {
   "cell_type": "code",
   "execution_count": null,
   "id": "c134c25b-30ad-4e3f-8733-6f26f3605488",
   "metadata": {},
   "outputs": [],
   "source": []
  },
  {
   "cell_type": "code",
   "execution_count": null,
   "id": "8b9ce911-6f0d-44bd-babc-3246809dfdfc",
   "metadata": {},
   "outputs": [],
   "source": []
  },
  {
   "cell_type": "code",
   "execution_count": null,
   "id": "d4954481-c1dc-4279-a5de-c98dcd38ed53",
   "metadata": {},
   "outputs": [],
   "source": []
  }
 ],
 "metadata": {
  "kernelspec": {
   "display_name": "Python [conda env:base] *",
   "language": "python",
   "name": "conda-base-py"
  },
  "language_info": {
   "codemirror_mode": {
    "name": "ipython",
    "version": 3
   },
   "file_extension": ".py",
   "mimetype": "text/x-python",
   "name": "python",
   "nbconvert_exporter": "python",
   "pygments_lexer": "ipython3",
   "version": "3.12.7"
  }
 },
 "nbformat": 4,
 "nbformat_minor": 5
}
