{
 "cells": [
  {
   "cell_type": "code",
   "execution_count": 1,
   "id": "fa5ed5c0-271a-424e-bb97-da0ca40c5be1",
   "metadata": {},
   "outputs": [],
   "source": [
    "from sklearn.decomposition import KernelPCA\n",
    "from sklearn.discriminant_analysis import LinearDiscriminantAnalysis as LDA\n",
    "from mlxtend.feature_selection import SequentialFeatureSelector as SFS\n",
    "from sklearn.model_selection import train_test_split\n",
    "from sklearn.preprocessing import StandardScaler\n",
    "from sklearn.metrics import accuracy_score,confusion_matrix,classification_report\n",
    "from sklearn.linear_model import LogisticRegression\n",
    "from sklearn.svm import SVC\n",
    "from sklearn.svm import SVC\n",
    "from sklearn.naive_bayes import GaussianNB\n",
    "from sklearn.neighbors import KNeighborsClassifier\n",
    "from sklearn.tree import DecisionTreeClassifier\n",
    "from sklearn.ensemble import RandomForestClassifier\n",
    "import numpy as np\n",
    "import matplotlib.pyplot as plt"
   ]
  },
  {
   "cell_type": "code",
   "execution_count": 13,
   "id": "7f36de0e-752f-4df0-8ef9-ad31950be93d",
   "metadata": {},
   "outputs": [],
   "source": [
    "def lda(x_train_sc,x_test_sc,n):\n",
    "    lda=LDA(n_components=n)\n",
    "    x_train_lda=lda.fit_transform(x_train_sc)\n",
    "    x_test_lda=lda.transform(x_test_sc)\n",
    "    #variance_ratio=kpca.explained_variance_ratio_\n",
    "    #cumsum_variance=np.cumsum(variance_ratio)\n",
    "    return x_train_lda,x_test_lda"
   ]
  },
  {
   "cell_type": "code",
   "execution_count": 4,
   "id": "eaa276b8-81db-4b9d-b75c-3e016e9804cc",
   "metadata": {},
   "outputs": [],
   "source": [
    "def split_scale(indep,dep):\n",
    "    x_train,x_test,y_train,y_test=train_test_split(indep,dep,test_size=1/3,random_state=0)\n",
    "    sc=StandardScaler()\n",
    "    x_train_sc=sc.fit_transform(x_train)\n",
    "    x_test_sc=sc.transform(x_test)\n",
    "    return x_train_sc,x_test_sc,y_train,y_test"
   ]
  },
  {
   "cell_type": "code",
   "execution_count": 5,
   "id": "ec6a4fa3-31ae-4b74-81fb-c0146ea9df0d",
   "metadata": {},
   "outputs": [],
   "source": [
    "def accuracy(model,x_test_lda,y_test):\n",
    "    y_pred=model.predict(x_test_lda)\n",
    "    accu=accuracy_score(y_pred,y_test)\n",
    "    return accu\n"
   ]
  },
  {
   "cell_type": "code",
   "execution_count": 6,
   "id": "ae5812fd-66e0-4921-8ef7-e9525c55111a",
   "metadata": {},
   "outputs": [],
   "source": [
    "def log(x_train_lda,y_train,x_test_lda,y_test):\n",
    "    model=LogisticRegression(max_iter=1000,solver='liblinear')\n",
    "    model.fit(x_train_lda,y_train)\n",
    "    accuracy_log=accuracy(model,x_test_lda,y_test)\n",
    "    return accuracy_log\n",
    "\n",
    "def dt(x_train_lda,y_train,x_test_lda,y_test):\n",
    "    model=DecisionTreeClassifier()\n",
    "    model.fit(x_train_lda,y_train)\n",
    "    accuracy_dt=accuracy(model,x_test_lda,y_test)\n",
    "    return accuracy_dt\n",
    "\n",
    "def svc(x_train_lda,y_train,x_test_lda,y_test):\n",
    "    model=SVC(kernel='linear')\n",
    "    model.fit(x_train_lda,y_train)\n",
    "    accuracy_svc=accuracy(model,x_test_lda,y_test)\n",
    "    return accuracy_svc"
   ]
  },
  {
   "cell_type": "code",
   "execution_count": 14,
   "id": "b3ba1910-1e80-417c-bad1-ac17a62cd9a2",
   "metadata": {},
   "outputs": [],
   "source": [
    "def combo(indep,dep,n):\n",
    "    x_train_sc,x_test_sc,y_train,y_test=split_scale(indep,dep)\n",
    "    x_train_lda,x_test_lda=lda(x_train_sc,x_test_sc,n)\n",
    "    log_acc=[]\n",
    "    dt_acc=[]\n",
    "    svm_acc=[]\n",
    "    log_mod=log(x_train_lda,y_train,x_test_lda,y_test)\n",
    "    log_acc.append(log_mod)\n",
    "    dt_mod=dt(x_train_lda,y_train,x_test_lda,y_test)\n",
    "    dt_acc.append(dt_mod)\n",
    "    svm_mod=svc(x_train_lda,y_train,x_test_lda,y_test)\n",
    "    svm_acc.append(svm_mod)\n",
    "    result=[log_acc,dt_acc,svm_acc]\n",
    "    import pandas as pd\n",
    "    score_table=pd.DataFrame(result,columns=['LDA'],index=['Logistic Regression','Decision Tree','SVM'])\n",
    "    #graph=plot(cumsum_variance)\n",
    "    #features=pd.DataFrame(best_features,index=['Logistic Regression','Decision Tree'])\n",
    "    return score_table\n",
    "    #print(\"\\nscore_table:\\n\",features)"
   ]
  },
  {
   "cell_type": "code",
   "execution_count": 15,
   "id": "382c9234-9085-48af-822e-a0a3bc48fe98",
   "metadata": {},
   "outputs": [],
   "source": [
    "import pandas as pd\n",
    "dataset=pd.read_csv(\"CKD.csv\")\n",
    "dataset=pd.get_dummies(dataset,drop_first=True)\n",
    "indep=dataset.drop('classification_yes',axis=1)\n",
    "dep=dataset['classification_yes']"
   ]
  },
  {
   "cell_type": "code",
   "execution_count": 16,
   "id": "7b62ba6d-3c04-4489-8b0f-29153e8252cc",
   "metadata": {},
   "outputs": [
    {
     "ename": "TypeError",
     "evalue": "LinearDiscriminantAnalysis.fit() missing 1 required positional argument: 'y'",
     "output_type": "error",
     "traceback": [
      "\u001b[1;31m---------------------------------------------------------------------------\u001b[0m",
      "\u001b[1;31mTypeError\u001b[0m                                 Traceback (most recent call last)",
      "Cell \u001b[1;32mIn[16], line 1\u001b[0m\n\u001b[1;32m----> 1\u001b[0m combo(indep,dep,\u001b[38;5;241m5\u001b[39m)\n",
      "Cell \u001b[1;32mIn[14], line 3\u001b[0m, in \u001b[0;36mcombo\u001b[1;34m(indep, dep, n)\u001b[0m\n\u001b[0;32m      1\u001b[0m \u001b[38;5;28;01mdef\u001b[39;00m \u001b[38;5;21mcombo\u001b[39m(indep,dep,n):\n\u001b[0;32m      2\u001b[0m     x_train_sc,x_test_sc,y_train,y_test\u001b[38;5;241m=\u001b[39msplit_scale(indep,dep)\n\u001b[1;32m----> 3\u001b[0m     x_train_lda,x_test_lda\u001b[38;5;241m=\u001b[39mlda(x_train_sc,x_test_sc,n)\n\u001b[0;32m      4\u001b[0m     log_acc\u001b[38;5;241m=\u001b[39m[]\n\u001b[0;32m      5\u001b[0m     dt_acc\u001b[38;5;241m=\u001b[39m[]\n",
      "Cell \u001b[1;32mIn[13], line 3\u001b[0m, in \u001b[0;36mlda\u001b[1;34m(x_train_sc, x_test_sc, n)\u001b[0m\n\u001b[0;32m      1\u001b[0m \u001b[38;5;28;01mdef\u001b[39;00m \u001b[38;5;21mlda\u001b[39m(x_train_sc,x_test_sc,n):\n\u001b[0;32m      2\u001b[0m     lda\u001b[38;5;241m=\u001b[39mLDA(n_components\u001b[38;5;241m=\u001b[39mn)\n\u001b[1;32m----> 3\u001b[0m     x_train_lda\u001b[38;5;241m=\u001b[39mlda\u001b[38;5;241m.\u001b[39mfit_transform(x_train_sc)\n\u001b[0;32m      4\u001b[0m     x_test_lda\u001b[38;5;241m=\u001b[39mlda\u001b[38;5;241m.\u001b[39mtransform(x_test_sc)\n\u001b[0;32m      5\u001b[0m     \u001b[38;5;66;03m#variance_ratio=kpca.explained_variance_ratio_\u001b[39;00m\n\u001b[0;32m      6\u001b[0m     \u001b[38;5;66;03m#cumsum_variance=np.cumsum(variance_ratio)\u001b[39;00m\n",
      "File \u001b[1;32mC:\\anaconda3\\Lib\\site-packages\\sklearn\\utils\\_set_output.py:313\u001b[0m, in \u001b[0;36m_wrap_method_output.<locals>.wrapped\u001b[1;34m(self, X, *args, **kwargs)\u001b[0m\n\u001b[0;32m    311\u001b[0m \u001b[38;5;129m@wraps\u001b[39m(f)\n\u001b[0;32m    312\u001b[0m \u001b[38;5;28;01mdef\u001b[39;00m \u001b[38;5;21mwrapped\u001b[39m(\u001b[38;5;28mself\u001b[39m, X, \u001b[38;5;241m*\u001b[39margs, \u001b[38;5;241m*\u001b[39m\u001b[38;5;241m*\u001b[39mkwargs):\n\u001b[1;32m--> 313\u001b[0m     data_to_wrap \u001b[38;5;241m=\u001b[39m f(\u001b[38;5;28mself\u001b[39m, X, \u001b[38;5;241m*\u001b[39margs, \u001b[38;5;241m*\u001b[39m\u001b[38;5;241m*\u001b[39mkwargs)\n\u001b[0;32m    314\u001b[0m     \u001b[38;5;28;01mif\u001b[39;00m \u001b[38;5;28misinstance\u001b[39m(data_to_wrap, \u001b[38;5;28mtuple\u001b[39m):\n\u001b[0;32m    315\u001b[0m         \u001b[38;5;66;03m# only wrap the first output for cross decomposition\u001b[39;00m\n\u001b[0;32m    316\u001b[0m         return_tuple \u001b[38;5;241m=\u001b[39m (\n\u001b[0;32m    317\u001b[0m             _wrap_data_with_container(method, data_to_wrap[\u001b[38;5;241m0\u001b[39m], X, \u001b[38;5;28mself\u001b[39m),\n\u001b[0;32m    318\u001b[0m             \u001b[38;5;241m*\u001b[39mdata_to_wrap[\u001b[38;5;241m1\u001b[39m:],\n\u001b[0;32m    319\u001b[0m         )\n",
      "File \u001b[1;32mC:\\anaconda3\\Lib\\site-packages\\sklearn\\base.py:1098\u001b[0m, in \u001b[0;36mTransformerMixin.fit_transform\u001b[1;34m(self, X, y, **fit_params)\u001b[0m\n\u001b[0;32m   1083\u001b[0m         warnings\u001b[38;5;241m.\u001b[39mwarn(\n\u001b[0;32m   1084\u001b[0m             (\n\u001b[0;32m   1085\u001b[0m                 \u001b[38;5;124mf\u001b[39m\u001b[38;5;124m\"\u001b[39m\u001b[38;5;124mThis object (\u001b[39m\u001b[38;5;132;01m{\u001b[39;00m\u001b[38;5;28mself\u001b[39m\u001b[38;5;241m.\u001b[39m\u001b[38;5;18m__class__\u001b[39m\u001b[38;5;241m.\u001b[39m\u001b[38;5;18m__name__\u001b[39m\u001b[38;5;132;01m}\u001b[39;00m\u001b[38;5;124m) has a `transform`\u001b[39m\u001b[38;5;124m\"\u001b[39m\n\u001b[1;32m   (...)\u001b[0m\n\u001b[0;32m   1093\u001b[0m             \u001b[38;5;167;01mUserWarning\u001b[39;00m,\n\u001b[0;32m   1094\u001b[0m         )\n\u001b[0;32m   1096\u001b[0m \u001b[38;5;28;01mif\u001b[39;00m y \u001b[38;5;129;01mis\u001b[39;00m \u001b[38;5;28;01mNone\u001b[39;00m:\n\u001b[0;32m   1097\u001b[0m     \u001b[38;5;66;03m# fit method of arity 1 (unsupervised transformation)\u001b[39;00m\n\u001b[1;32m-> 1098\u001b[0m     \u001b[38;5;28;01mreturn\u001b[39;00m \u001b[38;5;28mself\u001b[39m\u001b[38;5;241m.\u001b[39mfit(X, \u001b[38;5;241m*\u001b[39m\u001b[38;5;241m*\u001b[39mfit_params)\u001b[38;5;241m.\u001b[39mtransform(X)\n\u001b[0;32m   1099\u001b[0m \u001b[38;5;28;01melse\u001b[39;00m:\n\u001b[0;32m   1100\u001b[0m     \u001b[38;5;66;03m# fit method of arity 2 (supervised transformation)\u001b[39;00m\n\u001b[0;32m   1101\u001b[0m     \u001b[38;5;28;01mreturn\u001b[39;00m \u001b[38;5;28mself\u001b[39m\u001b[38;5;241m.\u001b[39mfit(X, y, \u001b[38;5;241m*\u001b[39m\u001b[38;5;241m*\u001b[39mfit_params)\u001b[38;5;241m.\u001b[39mtransform(X)\n",
      "File \u001b[1;32mC:\\anaconda3\\Lib\\site-packages\\sklearn\\base.py:1473\u001b[0m, in \u001b[0;36m_fit_context.<locals>.decorator.<locals>.wrapper\u001b[1;34m(estimator, *args, **kwargs)\u001b[0m\n\u001b[0;32m   1466\u001b[0m     estimator\u001b[38;5;241m.\u001b[39m_validate_params()\n\u001b[0;32m   1468\u001b[0m \u001b[38;5;28;01mwith\u001b[39;00m config_context(\n\u001b[0;32m   1469\u001b[0m     skip_parameter_validation\u001b[38;5;241m=\u001b[39m(\n\u001b[0;32m   1470\u001b[0m         prefer_skip_nested_validation \u001b[38;5;129;01mor\u001b[39;00m global_skip_validation\n\u001b[0;32m   1471\u001b[0m     )\n\u001b[0;32m   1472\u001b[0m ):\n\u001b[1;32m-> 1473\u001b[0m     \u001b[38;5;28;01mreturn\u001b[39;00m fit_method(estimator, \u001b[38;5;241m*\u001b[39margs, \u001b[38;5;241m*\u001b[39m\u001b[38;5;241m*\u001b[39mkwargs)\n",
      "\u001b[1;31mTypeError\u001b[0m: LinearDiscriminantAnalysis.fit() missing 1 required positional argument: 'y'"
     ]
    }
   ],
   "source": [
    "combo(indep,dep,5)"
   ]
  },
  {
   "cell_type": "code",
   "execution_count": null,
   "id": "55f145f2-ad57-4895-94d5-906a4273eac2",
   "metadata": {},
   "outputs": [],
   "source": []
  },
  {
   "cell_type": "code",
   "execution_count": null,
   "id": "2755cc91-655b-4444-a4b2-105daa65befd",
   "metadata": {},
   "outputs": [],
   "source": []
  }
 ],
 "metadata": {
  "kernelspec": {
   "display_name": "Python [conda env:base] *",
   "language": "python",
   "name": "conda-base-py"
  },
  "language_info": {
   "codemirror_mode": {
    "name": "ipython",
    "version": 3
   },
   "file_extension": ".py",
   "mimetype": "text/x-python",
   "name": "python",
   "nbconvert_exporter": "python",
   "pygments_lexer": "ipython3",
   "version": "3.12.7"
  }
 },
 "nbformat": 4,
 "nbformat_minor": 5
}
