{
 "cells": [
  {
   "cell_type": "code",
   "execution_count": 1,
   "id": "ff6a3e41-58dc-4cc5-9af1-72414fd12b99",
   "metadata": {},
   "outputs": [],
   "source": [
    "from sklearn.decomposition import KernelPCA\n",
    "from mlxtend.feature_selection import SequentialFeatureSelector as SFS\n",
    "from sklearn.model_selection import train_test_split\n",
    "from sklearn.preprocessing import StandardScaler\n",
    "from sklearn.metrics import accuracy_score,confusion_matrix,classification_report\n",
    "from sklearn.linear_model import LogisticRegression\n",
    "from sklearn.svm import SVC\n",
    "from sklearn.svm import SVC\n",
    "from sklearn.naive_bayes import GaussianNB\n",
    "from sklearn.neighbors import KNeighborsClassifier\n",
    "from sklearn.tree import DecisionTreeClassifier\n",
    "from sklearn.ensemble import RandomForestClassifier\n",
    "import numpy as np\n",
    "import matplotlib.pyplot as plt"
   ]
  },
  {
   "cell_type": "code",
   "execution_count": 2,
   "id": "0cfde44a-6e58-4e5d-b3f8-a0c02781872c",
   "metadata": {},
   "outputs": [],
   "source": [
    "def kpca(x_train_sc,x_test_sc,n):\n",
    "    kpca=KernelPCA(n_components=n,kernel='rbf')\n",
    "    x_train_kpca=kpca.fit_transform(x_train_sc)\n",
    "    x_test_kpca=kpca.transform(x_test_sc)\n",
    "    #variance_ratio=kpca.explained_variance_ratio_\n",
    "    #cumsum_variance=np.cumsum(variance_ratio)\n",
    "    return x_train_kpca,x_test_kpca"
   ]
  },
  {
   "cell_type": "code",
   "execution_count": 3,
   "id": "ca0ecddf-279d-4c1a-b43b-c578bfca513b",
   "metadata": {},
   "outputs": [],
   "source": [
    "def split_scale(indep,dep):\n",
    "    x_train,x_test,y_train,y_test=train_test_split(indep,dep,test_size=1/3,random_state=0)\n",
    "    sc=StandardScaler()\n",
    "    x_train_sc=sc.fit_transform(x_train)\n",
    "    x_test_sc=sc.transform(x_test)\n",
    "    return x_train_sc,x_test_sc,y_train,y_test"
   ]
  },
  {
   "cell_type": "code",
   "execution_count": 4,
   "id": "fa4f6fa8-7046-4d48-8da0-7d3286310310",
   "metadata": {},
   "outputs": [],
   "source": [
    "def accuracy(model,x_test_kpca,y_test):\n",
    "    y_pred=model.predict(x_test_kpca)\n",
    "    accu=accuracy_score(y_pred,y_test)\n",
    "    return accu\n"
   ]
  },
  {
   "cell_type": "code",
   "execution_count": 5,
   "id": "8f68fd80-5093-434b-be38-9fd781e9fc9b",
   "metadata": {},
   "outputs": [],
   "source": [
    "def log(x_train_kpca,y_train,x_test_kpca,y_test):\n",
    "    model=LogisticRegression(max_iter=1000,solver='liblinear')\n",
    "    model.fit(x_train_kpca,y_train)\n",
    "    accuracy_log=accuracy(model,x_test_kpca,y_test)\n",
    "    return accuracy_log\n",
    "\n",
    "def dt(x_train_kpca,y_train,x_test_kpca,y_test):\n",
    "    model=DecisionTreeClassifier()\n",
    "    model.fit(x_train_kpca,y_train)\n",
    "    accuracy_dt=accuracy(model,x_test_kpca,y_test)\n",
    "    return accuracy_dt\n",
    "\n",
    "def svc(x_train_kpca,y_train,x_test_kpca,y_test):\n",
    "    model=SVC(kernel='linear')\n",
    "    model.fit(x_train_kpca,y_train)\n",
    "    accuracy_svc=accuracy(model,x_test_kpca,y_test)\n",
    "    return accuracy_svc"
   ]
  },
  {
   "cell_type": "code",
   "execution_count": 9,
   "id": "33bfb020-57c3-4e09-8dc2-e8db3d462e8a",
   "metadata": {},
   "outputs": [],
   "source": [
    "def combo(indep,dep,n):\n",
    "    x_train_sc,x_test_sc,y_train,y_test=split_scale(indep,dep)\n",
    "    x_train_kpca,x_test_kpca=kpca(x_train_sc,x_test_sc,n)\n",
    "    log_acc=[]\n",
    "    dt_acc=[]\n",
    "    svm_acc=[]\n",
    "    log_mod=log(x_train_kpca,y_train,x_test_kpca,y_test)\n",
    "    log_acc.append(log_mod)\n",
    "    dt_mod=dt(x_train_kpca,y_train,x_test_kpca,y_test)\n",
    "    dt_acc.append(dt_mod)\n",
    "    svm_mod=svc(x_train_kpca,y_train,x_test_kpca,y_test)\n",
    "    svm_acc.append(svm_mod)\n",
    "    result=[log_acc,dt_acc,svm_acc]\n",
    "    import pandas as pd\n",
    "    score_table=pd.DataFrame(result,columns=['KPCA'],index=['Logistic Regression','Decision Tree','SVM'])\n",
    "    #graph=plot(cumsum_variance)\n",
    "    #features=pd.DataFrame(best_features,index=['Logistic Regression','Decision Tree'])\n",
    "    return score_table\n",
    "    #print(\"\\nscore_table:\\n\",features)\n",
    "    "
   ]
  },
  {
   "cell_type": "code",
   "execution_count": 10,
   "id": "b3d68513-fb25-465a-8682-656e4e77527a",
   "metadata": {},
   "outputs": [],
   "source": [
    "import pandas as pd\n",
    "dataset=pd.read_csv(\"CKD.csv\")\n",
    "dataset=pd.get_dummies(dataset,drop_first=True)\n",
    "indep=dataset.drop('classification_yes',axis=1)\n",
    "dep=dataset['classification_yes']"
   ]
  },
  {
   "cell_type": "code",
   "execution_count": 11,
   "id": "8e9256e6-e04a-4f07-8c97-57a3cc08f5df",
   "metadata": {},
   "outputs": [
    {
     "data": {
      "text/html": [
       "<div>\n",
       "<style scoped>\n",
       "    .dataframe tbody tr th:only-of-type {\n",
       "        vertical-align: middle;\n",
       "    }\n",
       "\n",
       "    .dataframe tbody tr th {\n",
       "        vertical-align: top;\n",
       "    }\n",
       "\n",
       "    .dataframe thead th {\n",
       "        text-align: right;\n",
       "    }\n",
       "</style>\n",
       "<table border=\"1\" class=\"dataframe\">\n",
       "  <thead>\n",
       "    <tr style=\"text-align: right;\">\n",
       "      <th></th>\n",
       "      <th>KPCA</th>\n",
       "    </tr>\n",
       "  </thead>\n",
       "  <tbody>\n",
       "    <tr>\n",
       "      <th>Logistic Regression</th>\n",
       "      <td>1.0</td>\n",
       "    </tr>\n",
       "    <tr>\n",
       "      <th>Decision Tree</th>\n",
       "      <td>1.0</td>\n",
       "    </tr>\n",
       "    <tr>\n",
       "      <th>SVM</th>\n",
       "      <td>1.0</td>\n",
       "    </tr>\n",
       "  </tbody>\n",
       "</table>\n",
       "</div>"
      ],
      "text/plain": [
       "                     KPCA\n",
       "Logistic Regression   1.0\n",
       "Decision Tree         1.0\n",
       "SVM                   1.0"
      ]
     },
     "execution_count": 11,
     "metadata": {},
     "output_type": "execute_result"
    }
   ],
   "source": [
    "combo(indep,dep,5)"
   ]
  },
  {
   "cell_type": "code",
   "execution_count": null,
   "id": "b0db445c-7759-4be5-8b6f-7d8e730048df",
   "metadata": {},
   "outputs": [],
   "source": []
  }
 ],
 "metadata": {
  "kernelspec": {
   "display_name": "Python [conda env:base] *",
   "language": "python",
   "name": "conda-base-py"
  },
  "language_info": {
   "codemirror_mode": {
    "name": "ipython",
    "version": 3
   },
   "file_extension": ".py",
   "mimetype": "text/x-python",
   "name": "python",
   "nbconvert_exporter": "python",
   "pygments_lexer": "ipython3",
   "version": "3.12.7"
  }
 },
 "nbformat": 4,
 "nbformat_minor": 5
}
