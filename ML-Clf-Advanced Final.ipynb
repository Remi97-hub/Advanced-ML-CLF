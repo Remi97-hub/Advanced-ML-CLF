{
 "cells": [
  {
   "cell_type": "code",
   "execution_count": 1,
   "id": "f5a22d45-ab43-4ed9-90eb-3ef2866920dd",
   "metadata": {
    "jupyter": {
     "source_hidden": true
    }
   },
   "outputs": [],
   "source": [
    "def selectk_best(indep,dep,n):\n",
    "    from sklearn.feature_selection import SelectKBest,chi2\n",
    "    selector=SelectKBest(score_func=chi2,k=n)\n",
    "    fit1=selector.fit(indep,dep)\n",
    "    x=fit1.transform(indep)\n",
    "    return x\n",
    "\n",
    "def split_scale(x,dep):\n",
    "    from sklearn.model_selection import train_test_split\n",
    "    from sklearn.preprocessing import StandardScaler\n",
    "    x_train,x_test,y_train,y_test=train_test_split(x,dep,test_size=1/3,random_state=0)\n",
    "    sc=StandardScaler()\n",
    "    x_train_sc=sc.fit_transform(x_train)\n",
    "    x_test_sc=sc.transform(x_test)\n",
    "    return x_train_sc,x_test_sc,y_train,y_test \n",
    "\n",
    "from sklearn.metrics import accuracy_score,confusion_matrix,classification_report\n",
    "\n",
    "def logistic(x_train_sc,x_test_sc,y_train,y_test):\n",
    "    from sklearn.linear_model import LogisticRegression\n",
    "    model=LogisticRegression()\n",
    "    model.fit(x_train_sc,y_train)\n",
    "    y_pred=model.predict(x_test_sc)\n",
    "    accuracy=accuracy_score(y_pred,y_test)\n",
    "    return accuracy\n",
    "\n",
    "def svml(x_train_sc,x_test_sc,y_train,y_test):\n",
    "    from sklearn.svm import SVC\n",
    "    model=SVC(kernel='linear')\n",
    "    model.fit(x_train_sc,y_train)\n",
    "    y_pred=model.predict(x_test_sc)\n",
    "    accuracy=accuracy_score(y_pred,y_test)\n",
    "    return accuracy\n",
    "\n",
    "\n",
    "def svm_nl(x_train_sc,x_test_sc,y_train,y_test):\n",
    "    from sklearn.svm import SVC\n",
    "    model=SVC(kernel='rbf')\n",
    "    model.fit(x_train_sc,y_train)\n",
    "    y_pred=model.predict(x_test_sc)\n",
    "    accuracy=accuracy_score(y_pred,y_test)\n",
    "    return accuracy\n",
    "\n",
    "def naive(x_train_sc,x_test_sc,y_train,y_test):\n",
    "    from sklearn.naive_bayes import GaussianNB\n",
    "    model=GaussianNB()\n",
    "    model.fit(x_train_sc,y_train)\n",
    "    y_pred=model.predict(x_test_sc)\n",
    "    accuracy=accuracy_score(y_pred,y_test)\n",
    "    return accuracy\n",
    "\n",
    "def knn(x_train_sc,x_test_sc,y_train,y_test):\n",
    "    from sklearn.neighbors import KNeighborsClassifier\n",
    "    model=KNeighborsClassifier(n_neighbors=5,metric='minkowski',p=2)\n",
    "    model.fit(x_train_sc,y_train)\n",
    "    y_pred=model.predict(x_test_sc)\n",
    "    accuracy=accuracy_score(y_pred,y_test)\n",
    "    return accuracy\n",
    "\n",
    "def Decision(x_train_sc,x_test_sc,y_train,y_test):\n",
    "    from sklearn.tree import DecisionTreeClassifier\n",
    "    model= DecisionTreeClassifier(criterion='entropy')\n",
    "    model.fit(x_train_sc,y_train)\n",
    "    y_pred=model.predict(x_test_sc)\n",
    "    accuracy=accuracy_score(y_pred,y_test)\n",
    "    return accuracy\n",
    "\n",
    "def random_forest(x_train_sc,x_test_sc,y_train,y_test):\n",
    "    from sklearn.ensemble import RandomForestClassifier\n",
    "    model= RandomForestClassifier(n_estimators=10,criterion='entropy')\n",
    "    model.fit(x_train_sc,y_train)\n",
    "    y_pred=model.predict(x_test_sc)\n",
    "    accuracy=accuracy_score(y_pred,y_test)\n",
    "    return accuracy\n"
   ]
  },
  {
   "cell_type": "code",
   "execution_count": 2,
   "id": "5058fb2b-cf0f-4d38-a376-ce4b97143ddd",
   "metadata": {},
   "outputs": [],
   "source": [
    "import pandas as pd\n",
    "data=pd.read_csv(\"CKD.csv\")"
   ]
  },
  {
   "cell_type": "code",
   "execution_count": 3,
   "id": "9b0fe51a-0c2b-4241-9e4e-2c57193e92fc",
   "metadata": {},
   "outputs": [],
   "source": [
    "data=pd.get_dummies(data,drop_first=True)"
   ]
  },
  {
   "cell_type": "code",
   "execution_count": 4,
   "id": "4a63f748-3058-4980-990a-5a8d6d4e10f6",
   "metadata": {},
   "outputs": [],
   "source": [
    "indep=data.drop('classification_yes',axis=1)\n",
    "dep=data['classification_yes']"
   ]
  },
  {
   "cell_type": "code",
   "execution_count": 7,
   "id": "6479ee23-3ab8-4d7a-af03-b98b93493967",
   "metadata": {},
   "outputs": [],
   "source": [
    "def combo(indep,dep,n):\n",
    "    kbest=selectk_best(indep,dep,n)\n",
    "    x_train_sc,x_test_sc,y_train,y_test=split_scale(kbest,dep)\n",
    "    log_accuracy=logistic(x_train_sc,x_test_sc,y_train,y_test)\n",
    "    svm_accuracy=svml(x_train_sc,x_test_sc,y_train,y_test)\n",
    "    svm_nl_accuracy=svm_nl(x_train_sc,x_test_sc,y_train,y_test)\n",
    "    naive_accuracy=naive(x_train_sc,x_test_sc,y_train,y_test)\n",
    "    knn_accuracy=knn(x_train_sc,x_test_sc,y_train,y_test)\n",
    "    decision_accuracy=Decision(x_train_sc,x_test_sc,y_train,y_test)\n",
    "    random_accuracy=random_forest(x_train_sc,x_test_sc,y_train,y_test)\n",
    "    chiTable=pd.DataFrame(index=['Chi-Square'],columns=['Logistic','SVML','SVMnL','KNN','Naive','Decision','Random'])\n",
    "    chiTable.loc['Chi-Square','Logistic']=log_accuracy\n",
    "    chiTable.loc['Chi-Square','SVML']=svm_accuracy\n",
    "    chiTable.loc['Chi-Square','SVMnL']=svm_nl_accuracy\n",
    "    chiTable.loc['Chi-Square','KNN']=knn_accuracy\n",
    "    chiTable.loc['Chi-Square','Naive']=naive_accuracy\n",
    "    chiTable.loc['Chi-Square','Decision']=decision_accuracy\n",
    "    chiTable.loc['Chi-Square','Random']=random_accuracy\n",
    "    return chiTable\n",
    "\n",
    "\n",
    "\n",
    "\n"
   ]
  },
  {
   "cell_type": "code",
   "execution_count": 10,
   "id": "fe460ddd-402e-4edd-90b4-3bcf5f17c54d",
   "metadata": {},
   "outputs": [
    {
     "data": {
      "text/html": [
       "<div>\n",
       "<style scoped>\n",
       "    .dataframe tbody tr th:only-of-type {\n",
       "        vertical-align: middle;\n",
       "    }\n",
       "\n",
       "    .dataframe tbody tr th {\n",
       "        vertical-align: top;\n",
       "    }\n",
       "\n",
       "    .dataframe thead th {\n",
       "        text-align: right;\n",
       "    }\n",
       "</style>\n",
       "<table border=\"1\" class=\"dataframe\">\n",
       "  <thead>\n",
       "    <tr style=\"text-align: right;\">\n",
       "      <th></th>\n",
       "      <th>Logistic</th>\n",
       "      <th>SVML</th>\n",
       "      <th>SVMnL</th>\n",
       "      <th>KNN</th>\n",
       "      <th>Naive</th>\n",
       "      <th>Decision</th>\n",
       "      <th>Random</th>\n",
       "    </tr>\n",
       "  </thead>\n",
       "  <tbody>\n",
       "    <tr>\n",
       "      <th>Chi-Square</th>\n",
       "      <td>0.857143</td>\n",
       "      <td>0.857143</td>\n",
       "      <td>0.857143</td>\n",
       "      <td>0.864662</td>\n",
       "      <td>0.804511</td>\n",
       "      <td>0.909774</td>\n",
       "      <td>0.924812</td>\n",
       "    </tr>\n",
       "  </tbody>\n",
       "</table>\n",
       "</div>"
      ],
      "text/plain": [
       "            Logistic      SVML     SVMnL       KNN     Naive  Decision  \\\n",
       "Chi-Square  0.857143  0.857143  0.857143  0.864662  0.804511  0.909774   \n",
       "\n",
       "              Random  \n",
       "Chi-Square  0.924812  "
      ]
     },
     "execution_count": 10,
     "metadata": {},
     "output_type": "execute_result"
    }
   ],
   "source": [
    "combo(indep,dep,4)"
   ]
  },
  {
   "cell_type": "code",
   "execution_count": null,
   "id": "a94f77ca-93e5-4499-b053-e1711865dfc0",
   "metadata": {},
   "outputs": [],
   "source": []
  }
 ],
 "metadata": {
  "kernelspec": {
   "display_name": "Python [conda env:base] *",
   "language": "python",
   "name": "conda-base-py"
  },
  "language_info": {
   "codemirror_mode": {
    "name": "ipython",
    "version": 3
   },
   "file_extension": ".py",
   "mimetype": "text/x-python",
   "name": "python",
   "nbconvert_exporter": "python",
   "pygments_lexer": "ipython3",
   "version": "3.12.7"
  }
 },
 "nbformat": 4,
 "nbformat_minor": 5
}
