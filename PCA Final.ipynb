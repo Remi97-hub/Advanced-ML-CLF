{
 "cells": [
  {
   "cell_type": "code",
   "execution_count": 30,
   "id": "11c9e6c6-3d4f-4957-b877-0ded0dd130c3",
   "metadata": {},
   "outputs": [],
   "source": [
    "from sklearn.decomposition import PCA\n",
    "from mlxtend.feature_selection import SequentialFeatureSelector as SFS\n",
    "from sklearn.model_selection import train_test_split\n",
    "from sklearn.preprocessing import StandardScaler\n",
    "from sklearn.metrics import accuracy_score,confusion_matrix,classification_report\n",
    "from sklearn.linear_model import LogisticRegression\n",
    "from sklearn.svm import SVC\n",
    "from sklearn.svm import SVC\n",
    "from sklearn.naive_bayes import GaussianNB\n",
    "from sklearn.neighbors import KNeighborsClassifier\n",
    "from sklearn.tree import DecisionTreeClassifier\n",
    "from sklearn.ensemble import RandomForestClassifier\n",
    "import numpy as np\n",
    "import matplotlib.pyplot as plt"
   ]
  },
  {
   "cell_type": "code",
   "execution_count": 11,
   "id": "0d2f3b1c-dd31-4017-91b4-ce6491f3727c",
   "metadata": {},
   "outputs": [],
   "source": [
    "def pca(x_train_sc,x_test_sc,n):\n",
    "    pca=PCA(n_components=n)\n",
    "    x_train_pca=pca.fit_transform(x_train_sc)\n",
    "    x_test_pca=pca.transform(x_test_sc)\n",
    "    variance_ratio=pca.explained_variance_ratio_\n",
    "    cumsum_variance=np.cumsum(variance_ratio)\n",
    "    return x_train_pca,x_test_pca,cumsum_variance"
   ]
  },
  {
   "cell_type": "code",
   "execution_count": 5,
   "id": "8e20e882-764b-480a-a3a4-4e2b684f9de3",
   "metadata": {},
   "outputs": [],
   "source": [
    "def split_scale(indep,dep):\n",
    "    x_train,x_test,y_train,y_test=train_test_split(indep,dep,test_size=1/3,random_state=0)\n",
    "    sc=StandardScaler()\n",
    "    x_train_sc=sc.fit_transform(x_train)\n",
    "    x_test_sc=sc.transform(x_test)\n",
    "    return x_train_sc,x_test_sc,y_train,y_test"
   ]
  },
  {
   "cell_type": "code",
   "execution_count": 6,
   "id": "6372cd70-3124-44bb-9785-280f128cc3df",
   "metadata": {},
   "outputs": [],
   "source": [
    "def accuracy(model,x_test_pca,y_test):\n",
    "    y_pred=model.predict(x_test_pca)\n",
    "    accu=accuracy_score(y_pred,y_test)\n",
    "    return accu"
   ]
  },
  {
   "cell_type": "code",
   "execution_count": 7,
   "id": "0c561bed-4d11-4b1a-84ac-296592ad55ad",
   "metadata": {},
   "outputs": [],
   "source": [
    "def log(x_train_pca,y_train,x_test_pca,y_test):\n",
    "    model=LogisticRegression(max_iter=1000,solver='liblinear')\n",
    "    model.fit(x_train_pca,y_train)\n",
    "    accuracy_log=accuracy(model,x_test_pca,y_test)\n",
    "    return accuracy_log\n",
    "\n",
    "def dt(x_train_pca,y_train,x_test_pca,y_test):\n",
    "    model=DecisionTreeClassifier()\n",
    "    model.fit(x_train_pca,y_train)\n",
    "    accuracy_dt=accuracy(model,x_test_pca,y_test)\n",
    "    return accuracy_dt\n",
    "\n",
    "def svc(x_train_pca,y_train,x_test_pca,y_test):\n",
    "    model=SVC(kernel='linear')\n",
    "    model.fit(x_train_pca,y_train)\n",
    "    accuracy_svc=accuracy(model,x_test_pca,y_test)\n",
    "    return accuracy_svc"
   ]
  },
  {
   "cell_type": "code",
   "execution_count": 31,
   "id": "1cd8e45d-2876-451e-9668-2197df1f6c41",
   "metadata": {},
   "outputs": [],
   "source": [
    "def plot(cumsum_variance):\n",
    "    plt.plot(cumsum_variance,marker='o')\n",
    "    plt.show()\n",
    "    return"
   ]
  },
  {
   "cell_type": "code",
   "execution_count": 32,
   "id": "566b5f70-f148-40a0-ab16-ae66f12d8fe0",
   "metadata": {},
   "outputs": [],
   "source": [
    "def combo(indep,dep,n):\n",
    "    x_train_sc,x_test_sc,y_train,y_test=split_scale(indep,dep)\n",
    "    x_train_pca,x_test_pca,cumsum_variance=pca(x_train_sc,x_test_sc,n)\n",
    "    log_acc=[]\n",
    "    dt_acc=[]\n",
    "    svm_acc=[]\n",
    "    log_mod=log(x_train_pca,y_train,x_test_pca,y_test)\n",
    "    log_acc.append(log_mod)\n",
    "    dt_mod=dt(x_train_pca,y_train,x_test_pca,y_test)\n",
    "    dt_acc.append(dt_mod)\n",
    "    svm_mod=svc(x_train_pca,y_train,x_test_pca,y_test)\n",
    "    svm_acc.append(svm_mod)\n",
    "    result=[log_acc,dt_acc,svm_acc]\n",
    "    import pandas as pd\n",
    "    score_table=pd.DataFrame(result,columns=['PCA'],index=['Logistic Regression','Decision Tree','SVM'])\n",
    "    graph=plot(cumsum_variance)\n",
    "    #features=pd.DataFrame(best_features,index=['Logistic Regression','Decision Tree'])\n",
    "    return score_table,cumsum_variance,graph\n",
    "    #print(\"\\nscore_table:\\n\",features)\n",
    "    "
   ]
  },
  {
   "cell_type": "code",
   "execution_count": 26,
   "id": "4f1e161b-1717-4a80-a134-96d0da8e42f1",
   "metadata": {},
   "outputs": [],
   "source": [
    "import pandas as pd\n",
    "dataset=pd.read_csv(\"CKD.csv\")\n",
    "dataset=pd.get_dummies(dataset,drop_first=True)\n",
    "indep=dataset.drop('classification_yes',axis=1)\n",
    "dep=dataset['classification_yes']"
   ]
  },
  {
   "cell_type": "code",
   "execution_count": 33,
   "id": "758b4435-700c-4aa0-8873-7ce738c43e76",
   "metadata": {},
   "outputs": [
    {
     "data": {
      "image/png": "[encoded data removed]",
      "text/plain": [
       "<Figure size 640x480 with 1 Axes>"
      ]
     },
     "metadata": {},
     "output_type": "display_data"
    },
    {
     "data": {
      "text/plain": [
       "(                          PCA\n",
       " Logistic Regression  0.984962\n",
       " Decision Tree        1.000000\n",
       " SVM                  0.992481,\n",
       " array([0.25648691, 0.32989571, 0.39516826, 0.45196141, 0.50296719]),\n",
       " None)"
      ]
     },
     "execution_count": 33,
     "metadata": {},
     "output_type": "execute_result"
    }
   ],
   "source": [
    "combo(indep,dep,5)"
   ]
  },
  {
   "cell_type": "code",
   "execution_count": null,
   "id": "7b2a1108-ccec-48fc-a042-4e123be260dd",
   "metadata": {},
   "outputs": [],
   "source": []
  }
 ],
 "metadata": {
  "kernelspec": {
   "display_name": "Python [conda env:base] *",
   "language": "python",
   "name": "conda-base-py"
  },
  "language_info": {
   "codemirror_mode": {
    "name": "ipython",
    "version": 3
   },
   "file_extension": ".py",
   "mimetype": "text/x-python",
   "name": "python",
   "nbconvert_exporter": "python",
   "pygments_lexer": "ipython3",
   "version": "3.12.7"
  }
 },
 "nbformat": 4,
 "nbformat_minor": 5
}
