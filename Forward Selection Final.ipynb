{
 "cells": [
  {
   "cell_type": "code",
   "execution_count": 1,
   "id": "81032027-9cc7-49bf-a5f9-e29dcf9eb037",
   "metadata": {},
   "outputs": [],
   "source": [
    "from sklearn.feature_selection import SelectKBest,RFE\n",
    "from mlxtend.feature_selection import SequentialFeatureSelector as SFS\n",
    "from sklearn.model_selection import train_test_split\n",
    "from sklearn.preprocessing import StandardScaler\n",
    "from sklearn.metrics import accuracy_score,confusion_matrix,classification_report\n",
    "from sklearn.linear_model import LogisticRegression\n",
    "from sklearn.svm import SVC\n",
    "from sklearn.svm import SVC\n",
    "from sklearn.naive_bayes import GaussianNB\n",
    "from sklearn.neighbors import KNeighborsClassifier\n",
    "from sklearn.tree import DecisionTreeClassifier\n",
    "from sklearn.ensemble import RandomForestClassifier"
   ]
  },
  {
   "cell_type": "code",
   "execution_count": null,
   "id": "0c39ed48-dc6a-497f-a384-0328de440003",
   "metadata": {},
   "outputs": [],
   "source": []
  },
  {
   "cell_type": "code",
   "execution_count": 2,
   "id": "88367e7f-f1f2-4c15-8d01-d90d9b65e6fa",
   "metadata": {},
   "outputs": [],
   "source": [
    "import pandas as pd\n",
    "dataset=pd.read_csv(\"CKD.csv\")\n",
    "dataset=pd.get_dummies(dataset,drop_first=True)\n",
    "indep=dataset.drop('classification_yes',axis=1)\n",
    "dep=dataset['classification_yes']"
   ]
  },
  {
   "cell_type": "code",
   "execution_count": 3,
   "id": "3712dc84-87d2-4228-a5f5-dcf35b635388",
   "metadata": {},
   "outputs": [],
   "source": [
    "x_train,x_test,y_train,y_test=train_test_split(indep,dep,test_size=1/3,random_state=0)\n",
    "sc=StandardScaler()\n",
    "x_train_sc=sc.fit_transform(x_train)\n",
    "x_test_sc=sc.transform(x_test)"
   ]
  },
  {
   "cell_type": "code",
   "execution_count": 4,
   "id": "a3716453-5a29-471c-b168-0d4244495808",
   "metadata": {},
   "outputs": [],
   "source": [
    "def forward_selection(x_train_sc,x_test_sc,y_train,y_test,n):\n",
    "    log=LogisticRegression(max_iter=1000,solver='liblinear')\n",
    "    dt=DecisionTreeClassifier()\n",
    "    models=[log,dt]\n",
    "    best_train_x=[]\n",
    "    best_test_x=[]\n",
    "    best_features=[]\n",
    "    for model in models:\n",
    "        selector=SFS(model,k_features=n,forward=True,scoring='accuracy')\n",
    "        selector.fit(x_train_sc,y_train)\n",
    "        mask=selector.k_feature_names_\n",
    "        feature_indices=[int(i) for i in mask]\n",
    "        feature_names=dataset.columns[feature_indices]\n",
    "        best_features.append(feature_names)\n",
    "        x_train_fs=selector.transform(x_train_sc)\n",
    "        best_train_x.append(x_train_fs)\n",
    "        x_test_fs=selector.transform(x_test_sc)\n",
    "        best_test_x.append(x_test_fs)\n",
    "    return best_train_x,best_test_x,best_features,y_train,y_test\n",
    "    "
   ]
  },
  {
   "cell_type": "code",
   "execution_count": 5,
   "id": "93d01379-1980-457a-b905-14cc010cea0b",
   "metadata": {},
   "outputs": [],
   "source": [
    "def accuracy(model,x_test_fs,y_test):\n",
    "    y_pred=model.predict(x_test_fs)\n",
    "    accu=accuracy_score(y_pred,y_test)\n",
    "    return accu"
   ]
  },
  {
   "cell_type": "code",
   "execution_count": 6,
   "id": "34a6ccb3-db57-4527-9ae4-65ceff40098c",
   "metadata": {},
   "outputs": [],
   "source": [
    "def log(x_train_fs,y_train,x_test_fs,y_test):\n",
    "    model=LogisticRegression(max_iter=1000,solver='liblinear')\n",
    "    model.fit(x_train_fs,y_train)\n",
    "    accuracy_log=accuracy(model,x_test_fs,y_test)\n",
    "    return accuracy_log"
   ]
  },
  {
   "cell_type": "code",
   "execution_count": 7,
   "id": "d8c1bfee-48ca-4cec-89ba-60d7e728de40",
   "metadata": {},
   "outputs": [],
   "source": [
    "def dt(x_train_fs,y_train,x_test_fs,y_test):\n",
    "    model=DecisionTreeClassifier()\n",
    "    model.fit(x_train_fs,y_train)\n",
    "    accuracy_dt=accuracy(model,x_test_fs,y_test)\n",
    "    return accuracy_dt"
   ]
  },
  {
   "cell_type": "code",
   "execution_count": 8,
   "id": "b22f5ac6-276e-44e8-ab68-f336148693b7",
   "metadata": {},
   "outputs": [],
   "source": [
    "def svc(x_train_fs,y_train,x_test_fs,y_test):\n",
    "    model=SVC(kernel='linear')\n",
    "    model.fit(x_train_fs,y_train)\n",
    "    accuracy_svc=accuracy(model,x_test_fs,y_test)\n",
    "    return accuracy_svc"
   ]
  },
  {
   "cell_type": "code",
   "execution_count": 15,
   "id": "f46d49ab-edce-49d1-a6f5-e68595b86298",
   "metadata": {},
   "outputs": [],
   "source": [
    "def combo(x_train_sc,x_test_sc,y_train,y_test,n):\n",
    "    best_train_x,best_test_x,best_features,y_train,y_test=forward_selection(x_train_sc,x_test_sc,y_train,y_test,n)\n",
    "    log_acc=[]\n",
    "    dt_acc=[]\n",
    "    svc_acc=[]\n",
    "    #all_acc=[log_acc,dt_acc,svc_acc]\n",
    "    for x_train_fs,x_test_fs in zip(best_train_x,best_test_x):\n",
    "        log_mod=log(x_train_fs,y_train,x_test_fs,y_test)\n",
    "        log_acc.append(log_mod)\n",
    "        dt_mod=dt(x_train_fs,y_train,x_test_fs,y_test)\n",
    "        dt_acc.append(dt_mod)\n",
    "        svc_mod=svc(x_train_fs,y_train,x_test_fs,y_test)\n",
    "        svc_acc.append(svc_mod)\n",
    "    result=[log_acc,dt_acc,svc_acc]\n",
    "    import pandas as pd\n",
    "    score_table=pd.DataFrame(result,columns=['Logistic Regression','Decision Tree'],index=['Logistic Regression','Decision Tree','SVM'])\n",
    "    features=pd.DataFrame(best_features,index=['Logistic Regression','Decision Tree'])\n",
    "    return score_table,features\n",
    "    print(\"\\nscore_table:\\n\",features)\n",
    "        \n",
    "    "
   ]
  },
  {
   "cell_type": "code",
   "execution_count": 16,
   "id": "ad34e015-4d63-4dc0-a985-de742dcafc2d",
   "metadata": {},
   "outputs": [
    {
     "data": {
      "text/plain": [
       "(                     Logistic Regression  Decision Tree\n",
       " Logistic Regression             0.924812       0.879699\n",
       " Decision Tree                   0.954887       0.947368\n",
       " SVM                             0.939850       0.909774,\n",
       "                       0     1     2           3       4\n",
       " Logistic Regression  al  hrmo  sg_c  rbc_normal  dm_yes\n",
       " Decision Tree        al    su    rc        sg_b  dm_yes)"
      ]
     },
     "execution_count": 16,
     "metadata": {},
     "output_type": "execute_result"
    }
   ],
   "source": [
    "combo(x_train_sc,x_test_sc,y_train,y_test,5)"
   ]
  },
  {
   "cell_type": "code",
   "execution_count": null,
   "id": "85aacc39-9531-4e9f-a386-f04247c43631",
   "metadata": {},
   "outputs": [],
   "source": []
  }
 ],
 "metadata": {
  "kernelspec": {
   "display_name": "Python [conda env:base] *",
   "language": "python",
   "name": "conda-base-py"
  },
  "language_info": {
   "codemirror_mode": {
    "name": "ipython",
    "version": 3
   },
   "file_extension": ".py",
   "mimetype": "text/x-python",
   "name": "python",
   "nbconvert_exporter": "python",
   "pygments_lexer": "ipython3",
   "version": "3.12.7"
  }
 },
 "nbformat": 4,
 "nbformat_minor": 5
}
