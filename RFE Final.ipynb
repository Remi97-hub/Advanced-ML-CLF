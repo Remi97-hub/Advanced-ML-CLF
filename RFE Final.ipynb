{
 "cells": [
  {
   "cell_type": "code",
   "execution_count": 1,
   "id": "db76b27d-ed07-435e-8237-8e973888007f",
   "metadata": {},
   "outputs": [],
   "source": [
    "from sklearn.feature_selection import SelectKBest,RFE\n",
    "from sklearn.model_selection import train_test_split\n",
    "from sklearn.preprocessing import StandardScaler\n",
    "from sklearn.metrics import accuracy_score,confusion_matrix,classification_report\n",
    "from sklearn.linear_model import LogisticRegression\n",
    "from sklearn.svm import SVC\n",
    "from sklearn.svm import SVC\n",
    "from sklearn.naive_bayes import GaussianNB\n",
    "from sklearn.neighbors import KNeighborsClassifier\n",
    "from sklearn.tree import DecisionTreeClassifier\n",
    "from sklearn.ensemble import RandomForestClassifier"
   ]
  },
  {
   "cell_type": "code",
   "execution_count": 2,
   "id": "e9ac8f46-1e74-42a0-809b-8b15d6bff630",
   "metadata": {},
   "outputs": [],
   "source": [
    "def rfe_best(indep,dep,n):\n",
    "    log_est=LogisticRegression(max_iter=1000)\n",
    "    dt_est=DecisionTreeClassifier()\n",
    "    rf_est=RandomForestClassifier()\n",
    "    estimators=[log_est,dt_est,rf_est]\n",
    "    best_features=[]\n",
    "    features_name=[]\n",
    "    for estimator in estimators:\n",
    "        selector=RFE(estimator,n_features_to_select=n)\n",
    "        fit1=selector.fit(indep,dep)\n",
    "        x=fit1.transform(indep)\n",
    "        best_features.append(x)\n",
    "        mask=fit1.get_support(indices=True)\n",
    "        names=indep.columns[mask]\n",
    "        features_name.append(names)\n",
    "        \n",
    "    return best_features,features_name\n",
    "\n",
    "def split_scale(rfe_x,dep):\n",
    "    from sklearn.model_selection import train_test_split\n",
    "    from sklearn.preprocessing import StandardScaler\n",
    "    x_train,x_test,y_train,y_test=train_test_split(rfe_x,dep,test_size=1/3,random_state=0)\n",
    "    sc=StandardScaler()\n",
    "    x_train_sc=sc.fit_transform(x_train)\n",
    "    x_test_sc=sc.transform(x_test)\n",
    "    return x_train_sc,x_test_sc,y_train,y_test \n",
    "\n",
    "def accuracy(model,x_train_sc,x_test_sc,y_train,y_test):\n",
    "    y_pred=model.predict(x_test_sc)\n",
    "    accuracy=accuracy_score(y_pred,y_test)\n",
    "    return accuracy\n",
    "    \n",
    "\n",
    "def logistic(x_train_sc,x_test_sc,y_train,y_test):\n",
    "    from sklearn.linear_model import LogisticRegression\n",
    "    model=LogisticRegression()\n",
    "    model.fit(x_train_sc,y_train)\n",
    "    accu=accuracy(model,x_train_sc,x_test_sc,y_train,y_test)\n",
    "    return accu\n",
    "\n",
    "def svml(x_train_sc,x_test_sc,y_train,y_test):\n",
    "    from sklearn.svm import SVC\n",
    "    model=SVC(kernel='linear')\n",
    "    model.fit(x_train_sc,y_train)\n",
    "    accu=accuracy(model,x_train_sc,x_test_sc,y_train,y_test)\n",
    "    return accu\n",
    "\n",
    "def svm_nl(x_train_sc,x_test_sc,y_train,y_test):\n",
    "    from sklearn.svm import SVC\n",
    "    model=SVC(kernel='rbf')\n",
    "    model.fit(x_train_sc,y_train)\n",
    "    accu=accuracy(model,x_train_sc,x_test_sc,y_train,y_test)\n",
    "    return accu\n",
    "\n",
    "def naive(x_train_sc,x_test_sc,y_train,y_test):\n",
    "    from sklearn.naive_bayes import GaussianNB\n",
    "    model=GaussianNB()\n",
    "    model.fit(x_train_sc,y_train)\n",
    "    accu=accuracy(model,x_train_sc,x_test_sc,y_train,y_test)\n",
    "    return accu\n",
    "   \n",
    "\n",
    "def knn(x_train_sc,x_test_sc,y_train,y_test):\n",
    "    from sklearn.neighbors import KNeighborsClassifier\n",
    "    model=KNeighborsClassifier(n_neighbors=5,metric='minkowski',p=2)\n",
    "    model.fit(x_train_sc,y_train)\n",
    "    accu=accuracy(model,x_train_sc,x_test_sc,y_train,y_test)\n",
    "    return accu\n",
    "\n",
    "def Decision(x_train_sc,x_test_sc,y_train,y_test):\n",
    "    from sklearn.tree import DecisionTreeClassifier\n",
    "    model= DecisionTreeClassifier(criterion='entropy')\n",
    "    model.fit(x_train_sc,y_train)\n",
    "    accu=accuracy(model,x_train_sc,x_test_sc,y_train,y_test)\n",
    "    return accu\n",
    "\n",
    "def random_forest(x_train_sc,x_test_sc,y_train,y_test):\n",
    "    from sklearn.ensemble import RandomForestClassifier\n",
    "    model= RandomForestClassifier(n_estimators=10,criterion='entropy')\n",
    "    model.fit(x_train_sc,y_train)\n",
    "    accu=accuracy(model,x_train_sc,x_test_sc,y_train,y_test)\n",
    "    return accu\n",
    "\n",
    "\n"
   ]
  },
  {
   "cell_type": "code",
   "execution_count": 3,
   "id": "e24cb035-abbe-4d4d-a835-76787ce595d1",
   "metadata": {},
   "outputs": [],
   "source": [
    "def best_combo(indep,dep,n):\n",
    "    best_rfe,column=rfe_best(indep,dep,n)\n",
    "    log_accuracy=[]\n",
    "    svml_accuracy=[]\n",
    "    svmnl_accuracy=[]\n",
    "    naive_accuracy=[]\n",
    "    knn_accuracy=[]\n",
    "    dt_accuracy=[]\n",
    "    rf_accuracy=[]\n",
    "    for rfe_x in best_rfe:\n",
    "        x_train_sc,x_test_sc,y_train,y_test=split_scale(rfe_x,dep)\n",
    "        log_model=logistic(x_train_sc,x_test_sc,y_train,y_test)\n",
    "        log_accuracy.append(log_model)\n",
    "        svml_model=svml(x_train_sc,x_test_sc,y_train,y_test)\n",
    "        svml_accuracy.append(svml_model)\n",
    "        svmnl_model=svm_nl(x_train_sc,x_test_sc,y_train,y_test)\n",
    "        svmnl_accuracy.append(svmnl_model)\n",
    "        naive_model=naive(x_train_sc,x_test_sc,y_train,y_test)\n",
    "        naive_accuracy.append(naive_model)\n",
    "        knn_model=knn(x_train_sc,x_test_sc,y_train,y_test)\n",
    "        knn_accuracy.append(knn_model)\n",
    "        dt_model=Decision(x_train_sc,x_test_sc,y_train,y_test)\n",
    "        dt_accuracy.append(dt_model)\n",
    "        rf_model=random_forest(x_train_sc,x_test_sc,y_train,y_test)\n",
    "        rf_accuracy.append(rf_model)\n",
    "    result=[log_accuracy,svml_accuracy,svmnl_accuracy,naive_accuracy,knn_accuracy,dt_accuracy,rf_accuracy]\n",
    "    import pandas as pd\n",
    "    accuracy_data_frame=pd.DataFrame(result,columns=['Logistic','Decision Tree','Random Forest'],index=['Logistic','SVML','SVMNL','Naive','KNN','Decision Tree','Random Forest'])\n",
    "    selected_column_name=pd.DataFrame(column,index=['Logistic','Decision Tree','Random Forest'])\n",
    "    return accuracy_data_frame,selected_column_name\n",
    "    "
   ]
  },
  {
   "cell_type": "code",
   "execution_count": 4,
   "id": "bb8a3b68-48e2-4c65-8a29-55023793d605",
   "metadata": {},
   "outputs": [],
   "source": [
    "import warnings\n",
    "warnings.filterwarnings('ignore')  # Use the function from the warnings module"
   ]
  },
  {
   "cell_type": "code",
   "execution_count": 5,
   "id": "57c775ab-12e3-45c9-a1b6-db661b711ea9",
   "metadata": {},
   "outputs": [],
   "source": [
    "import pandas as pd\n",
    "dataset=pd.read_csv(\"CKD.csv\")\n",
    "dataset=pd.get_dummies(dataset,drop_first=True)\n",
    "indep=dataset.drop('classification_yes',axis=1)\n",
    "dep=dataset['classification_yes']"
   ]
  },
  {
   "cell_type": "code",
   "execution_count": 6,
   "id": "44de4f9a-1150-4f02-9066-2475379a6e09",
   "metadata": {},
   "outputs": [
    {
     "data": {
      "text/plain": [
       "(               Logistic  Decision Tree  Random Forest\n",
       " Logistic       0.977444       0.992481       0.977444\n",
       " SVML           0.977444       0.992481       0.969925\n",
       " SVMNL          0.977444       0.984962       0.977444\n",
       " Naive          0.977444       0.939850       0.872180\n",
       " KNN            0.977444       0.992481       0.969925\n",
       " Decision Tree  0.977444       0.969925       0.947368\n",
       " Random Forest  0.977444       0.984962       0.969925,\n",
       "                   0     1     2        3        4\n",
       " Logistic         al  sg_c  sg_d  htn_yes   dm_yes\n",
       " Decision Tree  hrmo    rc  sg_c     sg_d  htn_yes\n",
       " Random Forest    al    sc  hrmo      pcv       rc)"
      ]
     },
     "execution_count": 6,
     "metadata": {},
     "output_type": "execute_result"
    }
   ],
   "source": [
    " best_combo(indep,dep,5)"
   ]
  },
  {
   "cell_type": "code",
   "execution_count": 7,
   "id": "5dbf5c98-7518-4945-8d12-663fa4beda67",
   "metadata": {},
   "outputs": [],
   "source": [
    "accuracy_data_frame,selected_column_name=best_combo(indep,dep,5)"
   ]
  },
  {
   "cell_type": "code",
   "execution_count": 8,
   "id": "705a80f1-5498-4a5e-b46f-61cdcf60af9c",
   "metadata": {},
   "outputs": [
    {
     "data": {
      "text/html": [
       "<div>\n",
       "<style scoped>\n",
       "    .dataframe tbody tr th:only-of-type {\n",
       "        vertical-align: middle;\n",
       "    }\n",
       "\n",
       "    .dataframe tbody tr th {\n",
       "        vertical-align: top;\n",
       "    }\n",
       "\n",
       "    .dataframe thead th {\n",
       "        text-align: right;\n",
       "    }\n",
       "</style>\n",
       "<table border=\"1\" class=\"dataframe\">\n",
       "  <thead>\n",
       "    <tr style=\"text-align: right;\">\n",
       "      <th></th>\n",
       "      <th>Logistic</th>\n",
       "      <th>Decision Tree</th>\n",
       "      <th>Random Forest</th>\n",
       "    </tr>\n",
       "  </thead>\n",
       "  <tbody>\n",
       "    <tr>\n",
       "      <th>Logistic</th>\n",
       "      <td>0.977444</td>\n",
       "      <td>0.992481</td>\n",
       "      <td>0.947368</td>\n",
       "    </tr>\n",
       "    <tr>\n",
       "      <th>SVML</th>\n",
       "      <td>0.977444</td>\n",
       "      <td>0.992481</td>\n",
       "      <td>0.969925</td>\n",
       "    </tr>\n",
       "    <tr>\n",
       "      <th>SVMNL</th>\n",
       "      <td>0.977444</td>\n",
       "      <td>0.984962</td>\n",
       "      <td>0.969925</td>\n",
       "    </tr>\n",
       "    <tr>\n",
       "      <th>Naive</th>\n",
       "      <td>0.977444</td>\n",
       "      <td>0.939850</td>\n",
       "      <td>0.909774</td>\n",
       "    </tr>\n",
       "    <tr>\n",
       "      <th>KNN</th>\n",
       "      <td>0.977444</td>\n",
       "      <td>0.992481</td>\n",
       "      <td>0.947368</td>\n",
       "    </tr>\n",
       "    <tr>\n",
       "      <th>Decision Tree</th>\n",
       "      <td>0.977444</td>\n",
       "      <td>0.969925</td>\n",
       "      <td>0.962406</td>\n",
       "    </tr>\n",
       "    <tr>\n",
       "      <th>Random Forest</th>\n",
       "      <td>0.977444</td>\n",
       "      <td>0.992481</td>\n",
       "      <td>0.954887</td>\n",
       "    </tr>\n",
       "  </tbody>\n",
       "</table>\n",
       "</div>"
      ],
      "text/plain": [
       "               Logistic  Decision Tree  Random Forest\n",
       "Logistic       0.977444       0.992481       0.947368\n",
       "SVML           0.977444       0.992481       0.969925\n",
       "SVMNL          0.977444       0.984962       0.969925\n",
       "Naive          0.977444       0.939850       0.909774\n",
       "KNN            0.977444       0.992481       0.947368\n",
       "Decision Tree  0.977444       0.969925       0.962406\n",
       "Random Forest  0.977444       0.992481       0.954887"
      ]
     },
     "execution_count": 8,
     "metadata": {},
     "output_type": "execute_result"
    }
   ],
   "source": [
    "accuracy_data_frame"
   ]
  },
  {
   "cell_type": "code",
   "execution_count": 9,
   "id": "0f69cbec-9291-43f8-a136-e49d179b1ac6",
   "metadata": {},
   "outputs": [
    {
     "data": {
      "text/plain": [
       "Logistic         0.977444\n",
       "Decision Tree    0.992481\n",
       "Random Forest    0.969925\n",
       "dtype: float64"
      ]
     },
     "execution_count": 9,
     "metadata": {},
     "output_type": "execute_result"
    }
   ],
   "source": [
    "accuracy_data_frame.max()"
   ]
  },
  {
   "cell_type": "code",
   "execution_count": 11,
   "id": "40055189-f25b-42e2-9382-b6addb20e00f",
   "metadata": {},
   "outputs": [
    {
     "data": {
      "text/plain": [
       "Logistic         Logistic\n",
       "Decision Tree    Logistic\n",
       "Random Forest        SVML\n",
       "dtype: object"
      ]
     },
     "execution_count": 11,
     "metadata": {},
     "output_type": "execute_result"
    }
   ],
   "source": [
    "accuracy_data_frame.idxmax()"
   ]
  },
  {
   "cell_type": "code",
   "execution_count": null,
   "id": "32ad8097-8946-4335-8e3a-c5fcdc53800e",
   "metadata": {},
   "outputs": [],
   "source": []
  }
 ],
 "metadata": {
  "kernelspec": {
   "display_name": "Python [conda env:base] *",
   "language": "python",
   "name": "conda-base-py"
  },
  "language_info": {
   "codemirror_mode": {
    "name": "ipython",
    "version": 3
   },
   "file_extension": ".py",
   "mimetype": "text/x-python",
   "name": "python",
   "nbconvert_exporter": "python",
   "pygments_lexer": "ipython3",
   "version": "3.12.7"
  }
 },
 "nbformat": 4,
 "nbformat_minor": 5
}
